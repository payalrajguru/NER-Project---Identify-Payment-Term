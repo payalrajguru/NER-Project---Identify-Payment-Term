{
 "cells": [
  {
   "cell_type": "code",
   "execution_count": 157,
   "id": "ee868c21",
   "metadata": {},
   "outputs": [],
   "source": [
    "###### import pandas as pd\n",
    "import numpy as np\n",
    "import pandas as pd\n",
    "import seaborn as sns\n",
    "import json\n",
    "import re"
   ]
  },
  {
   "cell_type": "code",
   "execution_count": 158,
   "id": "05e24700",
   "metadata": {},
   "outputs": [],
   "source": [
    "payments = []\n",
    "for pay in open(r'C:\\Users\\gaura\\OneDrive\\Desktop\\python\\Documents\\JAGGAER\\payment_terms.jsonl',\"r\",encoding=\"utf8\"):\n",
    "    payments.append(json.loads(pay))"
   ]
  },
  {
   "cell_type": "code",
   "execution_count": 159,
   "id": "f1a4aaf2",
   "metadata": {},
   "outputs": [
    {
     "data": {
      "text/plain": [
       "89"
      ]
     },
     "execution_count": 159,
     "metadata": {},
     "output_type": "execute_result"
    }
   ],
   "source": [
    "len(payments)"
   ]
  },
  {
   "cell_type": "code",
   "execution_count": 160,
   "id": "50bff50f",
   "metadata": {},
   "outputs": [],
   "source": [
    "df=pd.DataFrame(payments)"
   ]
  },
  {
   "cell_type": "code",
   "execution_count": 161,
   "id": "cd8a9c7a",
   "metadata": {},
   "outputs": [
    {
     "data": {
      "text/plain": [
       "Index(['id', 'text', 'meta', 'annotation_approver', 'labels'], dtype='object')"
      ]
     },
     "execution_count": 161,
     "metadata": {},
     "output_type": "execute_result"
    }
   ],
   "source": [
    "df.columns"
   ]
  },
  {
   "cell_type": "code",
   "execution_count": 162,
   "id": "eca253c5",
   "metadata": {},
   "outputs": [
    {
     "data": {
      "text/html": [
       "<div>\n",
       "<style scoped>\n",
       "    .dataframe tbody tr th:only-of-type {\n",
       "        vertical-align: middle;\n",
       "    }\n",
       "\n",
       "    .dataframe tbody tr th {\n",
       "        vertical-align: top;\n",
       "    }\n",
       "\n",
       "    .dataframe thead th {\n",
       "        text-align: right;\n",
       "    }\n",
       "</style>\n",
       "<table border=\"1\" class=\"dataframe\">\n",
       "  <thead>\n",
       "    <tr style=\"text-align: right;\">\n",
       "      <th></th>\n",
       "      <th>id</th>\n",
       "      <th>text</th>\n",
       "      <th>meta</th>\n",
       "      <th>annotation_approver</th>\n",
       "      <th>labels</th>\n",
       "    </tr>\n",
       "  </thead>\n",
       "  <tbody>\n",
       "    <tr>\n",
       "      <th>0</th>\n",
       "      <td>783</td>\n",
       "      <td>(c)mrbwill pay undisputed amounts within 30 da...</td>\n",
       "      <td>{}</td>\n",
       "      <td>None</td>\n",
       "      <td>[[41, 48, Payment Term]]</td>\n",
       "    </tr>\n",
       "    <tr>\n",
       "      <th>1</th>\n",
       "      <td>784</td>\n",
       "      <td>MSA Tech Services (9/06}CONFIDENTIAL INFORMATI...</td>\n",
       "      <td>{}</td>\n",
       "      <td>None</td>\n",
       "      <td>[]</td>\n",
       "    </tr>\n",
       "    <tr>\n",
       "      <th>2</th>\n",
       "      <td>785</td>\n",
       "      <td>Supplier will immediately, but in no event mor...</td>\n",
       "      <td>{}</td>\n",
       "      <td>None</td>\n",
       "      <td>[]</td>\n",
       "    </tr>\n",
       "    <tr>\n",
       "      <th>3</th>\n",
       "      <td>786</td>\n",
       "      <td>Block will pay the Commission Fees due per the...</td>\n",
       "      <td>{}</td>\n",
       "      <td>None</td>\n",
       "      <td>[]</td>\n",
       "    </tr>\n",
       "    <tr>\n",
       "      <th>4</th>\n",
       "      <td>787</td>\n",
       "      <td>Payment for services rendered under this Agree...</td>\n",
       "      <td>{}</td>\n",
       "      <td>None</td>\n",
       "      <td>[[71, 87, Payment Term]]</td>\n",
       "    </tr>\n",
       "    <tr>\n",
       "      <th>...</th>\n",
       "      <td>...</td>\n",
       "      <td>...</td>\n",
       "      <td>...</td>\n",
       "      <td>...</td>\n",
       "      <td>...</td>\n",
       "    </tr>\n",
       "    <tr>\n",
       "      <th>84</th>\n",
       "      <td>867</td>\n",
       "      <td>CareWorks may discontinue Services if Client f...</td>\n",
       "      <td>{}</td>\n",
       "      <td>None</td>\n",
       "      <td>[]</td>\n",
       "    </tr>\n",
       "    <tr>\n",
       "      <th>85</th>\n",
       "      <td>868</td>\n",
       "      <td>With the exception of fraud or as otherwise re...</td>\n",
       "      <td>{}</td>\n",
       "      <td>None</td>\n",
       "      <td>[]</td>\n",
       "    </tr>\n",
       "    <tr>\n",
       "      <th>86</th>\n",
       "      <td>869</td>\n",
       "      <td>Coventry Company shall use best efforts to req...</td>\n",
       "      <td>{}</td>\n",
       "      <td>None</td>\n",
       "      <td>[[81, 97, Payment Term]]</td>\n",
       "    </tr>\n",
       "    <tr>\n",
       "      <th>87</th>\n",
       "      <td>870</td>\n",
       "      <td>or if this l...case or the estate of Tenant he...</td>\n",
       "      <td>{}</td>\n",
       "      <td>None</td>\n",
       "      <td>[]</td>\n",
       "    </tr>\n",
       "    <tr>\n",
       "      <th>88</th>\n",
       "      <td>871</td>\n",
       "      <td>(b) If Tenant shall default in the payment of ...</td>\n",
       "      <td>{}</td>\n",
       "      <td>None</td>\n",
       "      <td>[]</td>\n",
       "    </tr>\n",
       "  </tbody>\n",
       "</table>\n",
       "<p>89 rows × 5 columns</p>\n",
       "</div>"
      ],
      "text/plain": [
       "     id                                               text meta  \\\n",
       "0   783  (c)mrbwill pay undisputed amounts within 30 da...   {}   \n",
       "1   784  MSA Tech Services (9/06}CONFIDENTIAL INFORMATI...   {}   \n",
       "2   785  Supplier will immediately, but in no event mor...   {}   \n",
       "3   786  Block will pay the Commission Fees due per the...   {}   \n",
       "4   787  Payment for services rendered under this Agree...   {}   \n",
       "..  ...                                                ...  ...   \n",
       "84  867  CareWorks may discontinue Services if Client f...   {}   \n",
       "85  868  With the exception of fraud or as otherwise re...   {}   \n",
       "86  869  Coventry Company shall use best efforts to req...   {}   \n",
       "87  870  or if this l...case or the estate of Tenant he...   {}   \n",
       "88  871  (b) If Tenant shall default in the payment of ...   {}   \n",
       "\n",
       "   annotation_approver                    labels  \n",
       "0                 None  [[41, 48, Payment Term]]  \n",
       "1                 None                        []  \n",
       "2                 None                        []  \n",
       "3                 None                        []  \n",
       "4                 None  [[71, 87, Payment Term]]  \n",
       "..                 ...                       ...  \n",
       "84                None                        []  \n",
       "85                None                        []  \n",
       "86                None  [[81, 97, Payment Term]]  \n",
       "87                None                        []  \n",
       "88                None                        []  \n",
       "\n",
       "[89 rows x 5 columns]"
      ]
     },
     "execution_count": 162,
     "metadata": {},
     "output_type": "execute_result"
    }
   ],
   "source": [
    "df"
   ]
  },
  {
   "cell_type": "code",
   "execution_count": 163,
   "id": "13855cea",
   "metadata": {},
   "outputs": [
    {
     "data": {
      "text/html": [
       "<div>\n",
       "<style scoped>\n",
       "    .dataframe tbody tr th:only-of-type {\n",
       "        vertical-align: middle;\n",
       "    }\n",
       "\n",
       "    .dataframe tbody tr th {\n",
       "        vertical-align: top;\n",
       "    }\n",
       "\n",
       "    .dataframe thead th {\n",
       "        text-align: right;\n",
       "    }\n",
       "</style>\n",
       "<table border=\"1\" class=\"dataframe\">\n",
       "  <thead>\n",
       "    <tr style=\"text-align: right;\">\n",
       "      <th></th>\n",
       "      <th>id</th>\n",
       "      <th>text</th>\n",
       "      <th>meta</th>\n",
       "      <th>annotation_approver</th>\n",
       "      <th>labels</th>\n",
       "    </tr>\n",
       "  </thead>\n",
       "  <tbody>\n",
       "    <tr>\n",
       "      <th>0</th>\n",
       "      <td>783</td>\n",
       "      <td>(c)mrbwill pay undisputed amounts within 30 da...</td>\n",
       "      <td>{}</td>\n",
       "      <td>None</td>\n",
       "      <td>[[41, 48, Payment Term]]</td>\n",
       "    </tr>\n",
       "    <tr>\n",
       "      <th>1</th>\n",
       "      <td>784</td>\n",
       "      <td>MSA Tech Services (9/06}CONFIDENTIAL INFORMATI...</td>\n",
       "      <td>{}</td>\n",
       "      <td>None</td>\n",
       "      <td>[]</td>\n",
       "    </tr>\n",
       "    <tr>\n",
       "      <th>2</th>\n",
       "      <td>785</td>\n",
       "      <td>Supplier will immediately, but in no event mor...</td>\n",
       "      <td>{}</td>\n",
       "      <td>None</td>\n",
       "      <td>[]</td>\n",
       "    </tr>\n",
       "    <tr>\n",
       "      <th>3</th>\n",
       "      <td>786</td>\n",
       "      <td>Block will pay the Commission Fees due per the...</td>\n",
       "      <td>{}</td>\n",
       "      <td>None</td>\n",
       "      <td>[]</td>\n",
       "    </tr>\n",
       "    <tr>\n",
       "      <th>4</th>\n",
       "      <td>787</td>\n",
       "      <td>Payment for services rendered under this Agree...</td>\n",
       "      <td>{}</td>\n",
       "      <td>None</td>\n",
       "      <td>[[71, 87, Payment Term]]</td>\n",
       "    </tr>\n",
       "    <tr>\n",
       "      <th>...</th>\n",
       "      <td>...</td>\n",
       "      <td>...</td>\n",
       "      <td>...</td>\n",
       "      <td>...</td>\n",
       "      <td>...</td>\n",
       "    </tr>\n",
       "    <tr>\n",
       "      <th>84</th>\n",
       "      <td>867</td>\n",
       "      <td>CareWorks may discontinue Services if Client f...</td>\n",
       "      <td>{}</td>\n",
       "      <td>None</td>\n",
       "      <td>[]</td>\n",
       "    </tr>\n",
       "    <tr>\n",
       "      <th>85</th>\n",
       "      <td>868</td>\n",
       "      <td>With the exception of fraud or as otherwise re...</td>\n",
       "      <td>{}</td>\n",
       "      <td>None</td>\n",
       "      <td>[]</td>\n",
       "    </tr>\n",
       "    <tr>\n",
       "      <th>86</th>\n",
       "      <td>869</td>\n",
       "      <td>Coventry Company shall use best efforts to req...</td>\n",
       "      <td>{}</td>\n",
       "      <td>None</td>\n",
       "      <td>[[81, 97, Payment Term]]</td>\n",
       "    </tr>\n",
       "    <tr>\n",
       "      <th>87</th>\n",
       "      <td>870</td>\n",
       "      <td>or if this l...case or the estate of Tenant he...</td>\n",
       "      <td>{}</td>\n",
       "      <td>None</td>\n",
       "      <td>[]</td>\n",
       "    </tr>\n",
       "    <tr>\n",
       "      <th>88</th>\n",
       "      <td>871</td>\n",
       "      <td>(b) If Tenant shall default in the payment of ...</td>\n",
       "      <td>{}</td>\n",
       "      <td>None</td>\n",
       "      <td>[]</td>\n",
       "    </tr>\n",
       "  </tbody>\n",
       "</table>\n",
       "<p>89 rows × 5 columns</p>\n",
       "</div>"
      ],
      "text/plain": [
       "     id                                               text meta  \\\n",
       "0   783  (c)mrbwill pay undisputed amounts within 30 da...   {}   \n",
       "1   784  MSA Tech Services (9/06}CONFIDENTIAL INFORMATI...   {}   \n",
       "2   785  Supplier will immediately, but in no event mor...   {}   \n",
       "3   786  Block will pay the Commission Fees due per the...   {}   \n",
       "4   787  Payment for services rendered under this Agree...   {}   \n",
       "..  ...                                                ...  ...   \n",
       "84  867  CareWorks may discontinue Services if Client f...   {}   \n",
       "85  868  With the exception of fraud or as otherwise re...   {}   \n",
       "86  869  Coventry Company shall use best efforts to req...   {}   \n",
       "87  870  or if this l...case or the estate of Tenant he...   {}   \n",
       "88  871  (b) If Tenant shall default in the payment of ...   {}   \n",
       "\n",
       "   annotation_approver                    labels  \n",
       "0                 None  [[41, 48, Payment Term]]  \n",
       "1                 None                        []  \n",
       "2                 None                        []  \n",
       "3                 None                        []  \n",
       "4                 None  [[71, 87, Payment Term]]  \n",
       "..                 ...                       ...  \n",
       "84                None                        []  \n",
       "85                None                        []  \n",
       "86                None  [[81, 97, Payment Term]]  \n",
       "87                None                        []  \n",
       "88                None                        []  \n",
       "\n",
       "[89 rows x 5 columns]"
      ]
     },
     "execution_count": 163,
     "metadata": {},
     "output_type": "execute_result"
    }
   ],
   "source": [
    "df"
   ]
  },
  {
   "cell_type": "code",
   "execution_count": 164,
   "id": "1f72608c",
   "metadata": {},
   "outputs": [],
   "source": [
    "l=[]\n",
    "for i in df['labels']:\n",
    "    if len(i)>0:\n",
    "        l.append(i[0])\n",
    "    else:\n",
    "        l.append(i)"
   ]
  },
  {
   "cell_type": "code",
   "execution_count": 165,
   "id": "2cbf618f",
   "metadata": {},
   "outputs": [],
   "source": [
    "df['labels']=l"
   ]
  },
  {
   "cell_type": "code",
   "execution_count": 166,
   "id": "02263768",
   "metadata": {},
   "outputs": [],
   "source": [
    "df1=df"
   ]
  },
  {
   "cell_type": "code",
   "execution_count": null,
   "id": "428f06ef",
   "metadata": {},
   "outputs": [],
   "source": []
  },
  {
   "cell_type": "code",
   "execution_count": 167,
   "id": "0d807bc3",
   "metadata": {},
   "outputs": [],
   "source": [
    "TL=[]\n",
    "Tid=[]\n",
    "Tt=[]\n",
    "tL=[]\n",
    "tid=[]\n",
    "tt=[]\n",
    "for i in range(len(df1)):\n",
    "    if  len(df1['labels'][i])>0: \n",
    "        Tid.append(df1['id'][i])\n",
    "        Tt.append(df1['text'][i])\n",
    "        TL.append(df1['labels'][i])\n",
    "    else: \n",
    "        tid.append(df1['id'][i])\n",
    "        tt.append(df1['text'][i])\n",
    "        tL.append(df1['labels'][i])\n",
    "            "
   ]
  },
  {
   "cell_type": "code",
   "execution_count": 168,
   "id": "84b6afe4",
   "metadata": {},
   "outputs": [],
   "source": [
    "train=pd.DataFrame()\n",
    "train['id']=Tid\n",
    "train['text']=Tt\n",
    "train['labels']=TL"
   ]
  },
  {
   "cell_type": "code",
   "execution_count": 169,
   "id": "c56c019c",
   "metadata": {},
   "outputs": [],
   "source": [
    "test=pd.DataFrame()\n",
    "test['id']=tid\n",
    "test['text']=tt\n",
    "test['labels']=tL"
   ]
  },
  {
   "cell_type": "code",
   "execution_count": 170,
   "id": "a4ed2ceb",
   "metadata": {},
   "outputs": [],
   "source": [
    "new=[]\n",
    "\n",
    "for i in range(len(train['text'])):\n",
    "    new.append(train['text'][i][train['labels'][i][0]:train['labels'][i][1]])"
   ]
  },
  {
   "cell_type": "code",
   "execution_count": 171,
   "id": "38ac8ab1",
   "metadata": {},
   "outputs": [],
   "source": [
    "k=[]\n",
    "for i in train['labels']:\n",
    "    k.append(tuple(i))\n",
    "train['labels']=k"
   ]
  },
  {
   "cell_type": "code",
   "execution_count": 172,
   "id": "60737e2c",
   "metadata": {},
   "outputs": [
    {
     "data": {
      "text/html": [
       "<div>\n",
       "<style scoped>\n",
       "    .dataframe tbody tr th:only-of-type {\n",
       "        vertical-align: middle;\n",
       "    }\n",
       "\n",
       "    .dataframe tbody tr th {\n",
       "        vertical-align: top;\n",
       "    }\n",
       "\n",
       "    .dataframe thead th {\n",
       "        text-align: right;\n",
       "    }\n",
       "</style>\n",
       "<table border=\"1\" class=\"dataframe\">\n",
       "  <thead>\n",
       "    <tr style=\"text-align: right;\">\n",
       "      <th></th>\n",
       "      <th>id</th>\n",
       "      <th>text</th>\n",
       "      <th>labels</th>\n",
       "    </tr>\n",
       "  </thead>\n",
       "  <tbody>\n",
       "    <tr>\n",
       "      <th>0</th>\n",
       "      <td>783</td>\n",
       "      <td>(c)mrbwill pay undisputed amounts within 30 da...</td>\n",
       "      <td>(41, 48, Payment Term)</td>\n",
       "    </tr>\n",
       "    <tr>\n",
       "      <th>1</th>\n",
       "      <td>787</td>\n",
       "      <td>Payment for services rendered under this Agree...</td>\n",
       "      <td>(71, 87, Payment Term)</td>\n",
       "    </tr>\n",
       "    <tr>\n",
       "      <th>2</th>\n",
       "      <td>788</td>\n",
       "      <td>The Total Fees shall be due upon the Order For...</td>\n",
       "      <td>(184, 200, Payment Term)</td>\n",
       "    </tr>\n",
       "    <tr>\n",
       "      <th>3</th>\n",
       "      <td>789</td>\n",
       "      <td>The renewal fees for each Renewal Term shall b...</td>\n",
       "      <td>(100, 121, Payment Term)</td>\n",
       "    </tr>\n",
       "    <tr>\n",
       "      <th>4</th>\n",
       "      <td>791</td>\n",
       "      <td>mrbshall pay all invoices within thirty (30)da...</td>\n",
       "      <td>(33, 48, Payment Term)</td>\n",
       "    </tr>\n",
       "    <tr>\n",
       "      <th>5</th>\n",
       "      <td>792</td>\n",
       "      <td>With respect to recurring Services,Fiberlink s...</td>\n",
       "      <td>(115, 122, Payment Term)</td>\n",
       "    </tr>\n",
       "    <tr>\n",
       "      <th>6</th>\n",
       "      <td>796</td>\n",
       "      <td>Installment payments are due and payable thirt...</td>\n",
       "      <td>(41, 57, Payment Term)</td>\n",
       "    </tr>\n",
       "    <tr>\n",
       "      <th>7</th>\n",
       "      <td>801</td>\n",
       "      <td>If this occurs during the Term, SBC will compu...</td>\n",
       "      <td>(171, 178, Payment Term)</td>\n",
       "    </tr>\n",
       "    <tr>\n",
       "      <th>8</th>\n",
       "      <td>804</td>\n",
       "      <td>Fees and Expensesa) Prime will pay Subcontract...</td>\n",
       "      <td>(56, 63, Payment Term)</td>\n",
       "    </tr>\n",
       "    <tr>\n",
       "      <th>9</th>\n",
       "      <td>808</td>\n",
       "      <td>Customer will pay MetricStream in U.S. dollars...</td>\n",
       "      <td>(54, 61, Payment Term)</td>\n",
       "    </tr>\n",
       "    <tr>\n",
       "      <th>10</th>\n",
       "      <td>810</td>\n",
       "      <td>5.3 All invoices are payable within 30 days fr...</td>\n",
       "      <td>(36, 43, Payment Term)</td>\n",
       "    </tr>\n",
       "    <tr>\n",
       "      <th>11</th>\n",
       "      <td>816</td>\n",
       "      <td>TiVo will pay MetricStream in U.S. dollars wit...</td>\n",
       "      <td>(50, 61, Payment Term)</td>\n",
       "    </tr>\n",
       "    <tr>\n",
       "      <th>12</th>\n",
       "      <td>818</td>\n",
       "      <td>HDS will pay such undisputed invoice within fo...</td>\n",
       "      <td>(44, 64, Payment Term)</td>\n",
       "    </tr>\n",
       "    <tr>\n",
       "      <th>13</th>\n",
       "      <td>820</td>\n",
       "      <td>Unless otherwise specified in the SOW, all und...</td>\n",
       "      <td>(75, 96, Payment Term)</td>\n",
       "    </tr>\n",
       "    <tr>\n",
       "      <th>14</th>\n",
       "      <td>824</td>\n",
       "      <td>All undisputed invoices shall be paid in net 3...</td>\n",
       "      <td>(45, 52, Payment Term)</td>\n",
       "    </tr>\n",
       "    <tr>\n",
       "      <th>15</th>\n",
       "      <td>828</td>\n",
       "      <td>Customer will pay MelricStream in U S. dollars...</td>\n",
       "      <td>(54, 70, Payment Term)</td>\n",
       "    </tr>\n",
       "    <tr>\n",
       "      <th>16</th>\n",
       "      <td>829</td>\n",
       "      <td>9.2 Payment Terms(a) Credit Suisse shall pay e...</td>\n",
       "      <td>(146, 166, Payment Term)</td>\n",
       "    </tr>\n",
       "    <tr>\n",
       "      <th>17</th>\n",
       "      <td>833</td>\n",
       "      <td>Customer will pay MetricStream in U.S. dollars...</td>\n",
       "      <td>(54, 61, Payment Term)</td>\n",
       "    </tr>\n",
       "    <tr>\n",
       "      <th>18</th>\n",
       "      <td>841</td>\n",
       "      <td>The current rate for additional Professional S...</td>\n",
       "      <td>(148, 156, Payment Term)</td>\n",
       "    </tr>\n",
       "    <tr>\n",
       "      <th>19</th>\n",
       "      <td>843</td>\n",
       "      <td>NE 68175_________________________________Conta...</td>\n",
       "      <td>(164, 180, Payment Term)</td>\n",
       "    </tr>\n",
       "    <tr>\n",
       "      <th>20</th>\n",
       "      <td>844</td>\n",
       "      <td>Payment terms shall be net sixty (60) days fro...</td>\n",
       "      <td>(27, 42, Payment Term)</td>\n",
       "    </tr>\n",
       "    <tr>\n",
       "      <th>21</th>\n",
       "      <td>846</td>\n",
       "      <td>The Pharmacy shall pay Contractor for services...</td>\n",
       "      <td>(122, 138, Payment Term)</td>\n",
       "    </tr>\n",
       "    <tr>\n",
       "      <th>22</th>\n",
       "      <td>848</td>\n",
       "      <td>Payments for Covered Services from WPS to Dipl...</td>\n",
       "      <td>(146, 162, Payment Term)</td>\n",
       "    </tr>\n",
       "    <tr>\n",
       "      <th>23</th>\n",
       "      <td>850</td>\n",
       "      <td>Payments for Covered Services provided by Dipl...</td>\n",
       "      <td>(72, 92, Payment Term)</td>\n",
       "    </tr>\n",
       "    <tr>\n",
       "      <th>24</th>\n",
       "      <td>857</td>\n",
       "      <td>Payment shall be made within thirty (30) days ...</td>\n",
       "      <td>(29, 45, Payment Term)</td>\n",
       "    </tr>\n",
       "    <tr>\n",
       "      <th>25</th>\n",
       "      <td>862</td>\n",
       "      <td>Hospital will pay invoices within thirty (30) ...</td>\n",
       "      <td>(34, 50, Payment Term)</td>\n",
       "    </tr>\n",
       "    <tr>\n",
       "      <th>26</th>\n",
       "      <td>864</td>\n",
       "      <td>V. PAYMENT TO PROVIDER A. TriWest will use bes...</td>\n",
       "      <td>(87, 103, Payment Term)</td>\n",
       "    </tr>\n",
       "    <tr>\n",
       "      <th>27</th>\n",
       "      <td>866</td>\n",
       "      <td>Invoices are due NET 30 Client agrees to pay C...</td>\n",
       "      <td>(17, 23, Payment Term)</td>\n",
       "    </tr>\n",
       "    <tr>\n",
       "      <th>28</th>\n",
       "      <td>869</td>\n",
       "      <td>Coventry Company shall use best efforts to req...</td>\n",
       "      <td>(81, 97, Payment Term)</td>\n",
       "    </tr>\n",
       "  </tbody>\n",
       "</table>\n",
       "</div>"
      ],
      "text/plain": [
       "     id                                               text  \\\n",
       "0   783  (c)mrbwill pay undisputed amounts within 30 da...   \n",
       "1   787  Payment for services rendered under this Agree...   \n",
       "2   788  The Total Fees shall be due upon the Order For...   \n",
       "3   789  The renewal fees for each Renewal Term shall b...   \n",
       "4   791  mrbshall pay all invoices within thirty (30)da...   \n",
       "5   792  With respect to recurring Services,Fiberlink s...   \n",
       "6   796  Installment payments are due and payable thirt...   \n",
       "7   801  If this occurs during the Term, SBC will compu...   \n",
       "8   804  Fees and Expensesa) Prime will pay Subcontract...   \n",
       "9   808  Customer will pay MetricStream in U.S. dollars...   \n",
       "10  810  5.3 All invoices are payable within 30 days fr...   \n",
       "11  816  TiVo will pay MetricStream in U.S. dollars wit...   \n",
       "12  818  HDS will pay such undisputed invoice within fo...   \n",
       "13  820  Unless otherwise specified in the SOW, all und...   \n",
       "14  824  All undisputed invoices shall be paid in net 3...   \n",
       "15  828  Customer will pay MelricStream in U S. dollars...   \n",
       "16  829  9.2 Payment Terms(a) Credit Suisse shall pay e...   \n",
       "17  833  Customer will pay MetricStream in U.S. dollars...   \n",
       "18  841  The current rate for additional Professional S...   \n",
       "19  843  NE 68175_________________________________Conta...   \n",
       "20  844  Payment terms shall be net sixty (60) days fro...   \n",
       "21  846  The Pharmacy shall pay Contractor for services...   \n",
       "22  848  Payments for Covered Services from WPS to Dipl...   \n",
       "23  850  Payments for Covered Services provided by Dipl...   \n",
       "24  857  Payment shall be made within thirty (30) days ...   \n",
       "25  862  Hospital will pay invoices within thirty (30) ...   \n",
       "26  864  V. PAYMENT TO PROVIDER A. TriWest will use bes...   \n",
       "27  866  Invoices are due NET 30 Client agrees to pay C...   \n",
       "28  869  Coventry Company shall use best efforts to req...   \n",
       "\n",
       "                      labels  \n",
       "0     (41, 48, Payment Term)  \n",
       "1     (71, 87, Payment Term)  \n",
       "2   (184, 200, Payment Term)  \n",
       "3   (100, 121, Payment Term)  \n",
       "4     (33, 48, Payment Term)  \n",
       "5   (115, 122, Payment Term)  \n",
       "6     (41, 57, Payment Term)  \n",
       "7   (171, 178, Payment Term)  \n",
       "8     (56, 63, Payment Term)  \n",
       "9     (54, 61, Payment Term)  \n",
       "10    (36, 43, Payment Term)  \n",
       "11    (50, 61, Payment Term)  \n",
       "12    (44, 64, Payment Term)  \n",
       "13    (75, 96, Payment Term)  \n",
       "14    (45, 52, Payment Term)  \n",
       "15    (54, 70, Payment Term)  \n",
       "16  (146, 166, Payment Term)  \n",
       "17    (54, 61, Payment Term)  \n",
       "18  (148, 156, Payment Term)  \n",
       "19  (164, 180, Payment Term)  \n",
       "20    (27, 42, Payment Term)  \n",
       "21  (122, 138, Payment Term)  \n",
       "22  (146, 162, Payment Term)  \n",
       "23    (72, 92, Payment Term)  \n",
       "24    (29, 45, Payment Term)  \n",
       "25    (34, 50, Payment Term)  \n",
       "26   (87, 103, Payment Term)  \n",
       "27    (17, 23, Payment Term)  \n",
       "28    (81, 97, Payment Term)  "
      ]
     },
     "execution_count": 172,
     "metadata": {},
     "output_type": "execute_result"
    }
   ],
   "source": [
    "train"
   ]
  },
  {
   "cell_type": "code",
   "execution_count": 173,
   "id": "90e3aeea",
   "metadata": {
    "scrolled": true
   },
   "outputs": [
    {
     "data": {
      "text/plain": [
       "[(\"(c)mrbwill pay undisputed amounts within 30 days after receiving Supplier's invoice.\",\n",
       "  {'entities': [(41, 48, 'Payment Term')]}),\n",
       " ('Payment for services rendered under this Agreement shall be madewithin thirty (30) days following receipt of Magill invoices.',\n",
       "  {'entities': [(71, 87, 'Payment Term')]}),\n",
       " ('The Total Fees shall be due upon the Order Form Effective Date, and Customer must pay such feesaccordingto the following payment schedule:(a) the Total Fees shall be invoiced annually thirty (30) days in advance of each such year of the Subscription Term (excludingthe first invoice which shall be invoiced upon execution of this Order Form)as follows:Year 1 — $300,000.00Year2 - $315,000.00Year 3 - $330,000.00Customer shall pay each invoice within thirty (30) days of the invoice date.',\n",
       "  {'entities': [(184, 200, 'Payment Term')]}),\n",
       " ('The renewal fees for each Renewal Term shall be due on the first day of the RenewalTerm and payable “netthirty (30) days” from the date of invoice.',\n",
       "  {'entities': [(100, 121, 'Payment Term')]}),\n",
       " ('mrbshall pay all invoices within thirty (30)days from the invoice date.',\n",
       "  {'entities': [(33, 48, 'Payment Term')]}),\n",
       " ('With respect to recurring Services,Fiberlink shall invoice Customer on a monthly basis and paymentshall be due net 30 days following the date of invoice inUS.',\n",
       "  {'entities': [(115, 122, 'Payment Term')]}),\n",
       " ('Installment payments are due and payable thirty (30) days following Client’sacceptance of the Deliverables or as otherwise detailed in the SOW, and expense reimbursements are due thirty (30) daysafter a conforming invoice from USTis received by Client.',\n",
       "  {'entities': [(41, 57, 'Payment Term')]}),\n",
       " ('If this occurs during the Term, SBC will compute thetermination charges accordingto the following formula and rendera bill to Customer, which Customer agreesto pay within 30 days:Long Distance Service / PRI:*®100% of any waived Non Recurring Charges, Credits and Rebates.',\n",
       "  {'entities': [(171, 178, 'Payment Term')]}),\n",
       " ('Fees and Expensesa) Prime will pay Subcontractor within 30 days of the invoice, its hourly fees or fixed fees at the rates stated, or the fixed price stated, in the relevant SOW.',\n",
       "  {'entities': [(56, 63, 'Payment Term')]}),\n",
       " ('Customer will pay MetricStream in U.S. dollars within 30 days (Net 30 terms) of receipt of a correct invoice all undisputed charges and promptly notify MetricStream in writing of any disputed amount.',\n",
       "  {'entities': [(54, 61, 'Payment Term')]}),\n",
       " ('5.3 All invoices are payable within 30 days from the date of invoice.',\n",
       "  {'entities': [(36, 43, 'Payment Term')]}),\n",
       " ('TiVo will pay MetricStream in U.S. dollars within thirty days ( net 30 terms) o f receipt o f a correct invoice all undisputed charges and promptly notify MetricStream in writing o f any disputed amount.',\n",
       "  {'entities': [(50, 61, 'Payment Term')]}),\n",
       " ('HDS will pay such undisputed invoice within forty-five (45) days of receipt, and will have no further payment obligations with regard to this Agreement or the SOW, as applicable.',\n",
       "  {'entities': [(44, 64, 'Payment Term')]}),\n",
       " (\"Unless otherwise specified in the SOW, all undisputed payments will be due forty-five (450) days after HDS' receipt of Vendor’s invoice therefore4.3 Taxes.\",\n",
       "  {'entities': [(75, 96, 'Payment Term')]}),\n",
       " ('All undisputed invoices shall be paid in net 30 days of the receipt of such invoice by Lowe’s.',\n",
       "  {'entities': [(45, 52, 'Payment Term')]}),\n",
       " ('Customer will pay MelricStream in U S. dollars within thirty (30) days (net 30 terms) of receipt of a correct invoice all undisputed charges and promptly notify MetncSiream in writing of any disputed amount.',\n",
       "  {'entities': [(54, 70, 'Payment Term')]}),\n",
       " ('9.2 Payment Terms(a) Credit Suisse shall pay each invoice properly rendered in accordance with this Agreement and not in bona fide dispute within forty-five (45) days following the later of (x) receipt of the invoice, and (y) the date for payment specified below or as otherwise agreed in the Transaction Schedule:(i) License Fees.',\n",
       "  {'entities': [(146, 166, 'Payment Term')]}),\n",
       " ('Customer will pay MetricStream in U.S. dollars within 30 days (Net 30 terms) of receipt of a correct invoice all undisputed charges and promptly notify MetricStream in waiting of any disputed amount.',\n",
       "  {'entities': [(54, 61, 'Payment Term')]}),\n",
       " ('The current rate for additional Professional Services is $1,800 per day, per person, plus travel time and costs, billed as incurred and payable net 30 days.',\n",
       "  {'entities': [(148, 156, 'Payment Term')]}),\n",
       " ('NE 68175_________________________________Contact Phone: (402) 351-5097________________________________Except as provided above, Invoices are due and payable within thirty (30) days of Mutual of Omaha’s receipt of an accurate invoice.',\n",
       "  {'entities': [(164, 180, 'Payment Term')]}),\n",
       " (\"Payment terms shall be net sixty (60) days from Buyer's receipt of Seller's correctly ¡sented invoice, which includes this order number sent to the correct billing address.\",\n",
       "  {'entities': [(27, 42, 'Payment Term')]}),\n",
       " ('The Pharmacy shall pay Contractor for services rendered, after submission of completed nurses notes/visit records, within thirty (30) days of receipt of invoice, at the rates specified herein.',\n",
       "  {'entities': [(122, 138, 'Payment Term')]}),\n",
       " ('Payments for Covered Services from WPS to Diplomat shall be remitted, subject to receipt of funds from applicable Payors, twice each month within thirty (30) days of an electronically submitted claim unless state or any law mandates a lesser period of time.',\n",
       "  {'entities': [(146, 162, 'Payment Term')]}),\n",
       " (\"Payments for Covered Services provided by Diplomat shall be made within forty-five (45) days when applicable claims are adjudicated electronically via WPS's Diplomat management system and sixty (60) days when claims are submitted to WPS on paper claims submitted in the proper, Clean Claim format as defined by the State of Michigan.\",\n",
       "  {'entities': [(72, 92, 'Payment Term')]}),\n",
       " ('Payment shall be made within thirty (30) days following the end of each measurement period in default.',\n",
       "  {'entities': [(29, 45, 'Payment Term')]}),\n",
       " (\"Hospital will pay invoices within thirty (30) days of invoice e. o~pitaJ's obligation to pay for Products is absolute, unc-onditional and not subje ' re uttion>.\",\n",
       "  {'entities': [(34, 50, 'Payment Term')]}),\n",
       " ('V. PAYMENT TO PROVIDER A. TriWest will use best efforts to process Clean Claims within thirty (30) days of receipt and will make payment directly to Provider for Covered Services rendered by Provider to TRICARE Beneficiaries in accordance with the Reimbursement Rates set forth in Exhibit 1.',\n",
       "  {'entities': [(87, 103, 'Payment Term')]}),\n",
       " ('Invoices are due NET 30 Client agrees to pay CareWorks a late charge of one and one half percent (1J4%) per month or the maximum lawful rate, whichever is less, for all amounts not paid within thirty (45) days of receipt of invoice.',\n",
       "  {'entities': [(17, 23, 'Payment Term')]}),\n",
       " ('Coventry Company shall use best efforts to require Payors to pay Provider within thirty (30) days receipt of a claim that is accurate, complete, and otherwise in accordance with this section.',\n",
       "  {'entities': [(81, 97, 'Payment Term')]})]"
      ]
     },
     "execution_count": 173,
     "metadata": {},
     "output_type": "execute_result"
    }
   ],
   "source": [
    "mylist1 = []\n",
    "\n",
    "\n",
    "\n",
    "for i in range(len(train['text'])):\n",
    "    a = tuple((train.text[i],{'entities':[(train['labels'][i])]}))\n",
    "    mylist1.append(a)\n",
    "    \n",
    "mylist1    "
   ]
  },
  {
   "cell_type": "code",
   "execution_count": null,
   "id": "9a52bda2",
   "metadata": {},
   "outputs": [],
   "source": []
  },
  {
   "cell_type": "code",
   "execution_count": null,
   "id": "3e2b6195",
   "metadata": {},
   "outputs": [],
   "source": []
  },
  {
   "cell_type": "code",
   "execution_count": 174,
   "id": "6a0df1ea",
   "metadata": {},
   "outputs": [
    {
     "ename": "SyntaxError",
     "evalue": "invalid syntax (<ipython-input-174-93e788b3576b>, line 1)",
     "output_type": "error",
     "traceback": [
      "\u001b[1;36m  File \u001b[1;32m\"<ipython-input-174-93e788b3576b>\"\u001b[1;36m, line \u001b[1;32m1\u001b[0m\n\u001b[1;33m    [(train.text[0],{'entity':[(train['labels'][0])]}),..........]\u001b[0m\n\u001b[1;37m                                                          ^\u001b[0m\n\u001b[1;31mSyntaxError\u001b[0m\u001b[1;31m:\u001b[0m invalid syntax\n"
     ]
    }
   ],
   "source": [
    "\n",
    "[(train.text[0],{'entity':[(train['labels'][0])]}),..........]"
   ]
  },
  {
   "cell_type": "code",
   "execution_count": null,
   "id": "febfdd6f",
   "metadata": {},
   "outputs": [],
   "source": []
  },
  {
   "cell_type": "code",
   "execution_count": null,
   "id": "c400f539",
   "metadata": {},
   "outputs": [],
   "source": []
  },
  {
   "cell_type": "code",
   "execution_count": null,
   "id": "8f7d28bd",
   "metadata": {},
   "outputs": [],
   "source": []
  },
  {
   "cell_type": "code",
   "execution_count": null,
   "id": "c43f7b52",
   "metadata": {},
   "outputs": [],
   "source": []
  },
  {
   "cell_type": "code",
   "execution_count": null,
   "id": "1985ea2f",
   "metadata": {},
   "outputs": [],
   "source": []
  },
  {
   "cell_type": "code",
   "execution_count": null,
   "id": "452e4738",
   "metadata": {},
   "outputs": [],
   "source": []
  },
  {
   "cell_type": "code",
   "execution_count": null,
   "id": "ee677931",
   "metadata": {},
   "outputs": [],
   "source": []
  },
  {
   "cell_type": "code",
   "execution_count": 175,
   "id": "74bab791",
   "metadata": {},
   "outputs": [],
   "source": [
    "import re\n",
    "import nltk\n",
    "from nltk.tokenize import word_tokenize\n",
    "from nltk.corpus import stopwords\n",
    "from nltk.stem.porter import PorterStemmer\n",
    "from nltk.stem import WordNetLemmatizer"
   ]
  },
  {
   "cell_type": "code",
   "execution_count": 176,
   "id": "9a07a55d",
   "metadata": {},
   "outputs": [
    {
     "name": "stderr",
     "output_type": "stream",
     "text": [
      "[nltk_data] Downloading package wordnet to\n",
      "[nltk_data]     C:\\Users\\gaura\\AppData\\Roaming\\nltk_data...\n",
      "[nltk_data]   Package wordnet is already up-to-date!\n"
     ]
    },
    {
     "data": {
      "text/plain": [
       "True"
      ]
     },
     "execution_count": 176,
     "metadata": {},
     "output_type": "execute_result"
    }
   ],
   "source": [
    "import nltk\n",
    "nltk.download('wordnet')"
   ]
  },
  {
   "cell_type": "code",
   "execution_count": 177,
   "id": "1271db70",
   "metadata": {
    "scrolled": true
   },
   "outputs": [
    {
     "name": "stdout",
     "output_type": "stream",
     "text": [
      "Requirement already satisfied: spacy in c:\\programdata\\anaconda3\\lib\\site-packages (3.3.0)\n",
      "Requirement already satisfied: murmurhash<1.1.0,>=0.28.0 in c:\\programdata\\anaconda3\\lib\\site-packages (from spacy) (1.0.7)\n",
      "Requirement already satisfied: spacy-loggers<2.0.0,>=1.0.0 in c:\\programdata\\anaconda3\\lib\\site-packages (from spacy) (1.0.2)\n",
      "Requirement already satisfied: preshed<3.1.0,>=3.0.2 in c:\\programdata\\anaconda3\\lib\\site-packages (from spacy) (3.0.6)\n",
      "Requirement already satisfied: catalogue<2.1.0,>=2.0.6 in c:\\programdata\\anaconda3\\lib\\site-packages (from spacy) (2.0.7)\n",
      "Requirement already satisfied: tqdm<5.0.0,>=4.38.0 in c:\\programdata\\anaconda3\\lib\\site-packages (from spacy) (4.59.0)\n",
      "Requirement already satisfied: cymem<2.1.0,>=2.0.2 in c:\\programdata\\anaconda3\\lib\\site-packages (from spacy) (2.0.6)\n",
      "Requirement already satisfied: wasabi<1.1.0,>=0.9.1 in c:\\programdata\\anaconda3\\lib\\site-packages (from spacy) (0.9.1)\n",
      "Requirement already satisfied: pydantic!=1.8,!=1.8.1,<1.9.0,>=1.7.4 in c:\\programdata\\anaconda3\\lib\\site-packages (from spacy) (1.8.2)\n",
      "Requirement already satisfied: packaging>=20.0 in c:\\programdata\\anaconda3\\lib\\site-packages (from spacy) (20.9)\n",
      "Requirement already satisfied: langcodes<4.0.0,>=3.2.0 in c:\\programdata\\anaconda3\\lib\\site-packages (from spacy) (3.3.0)\n",
      "Requirement already satisfied: srsly<3.0.0,>=2.4.3 in c:\\programdata\\anaconda3\\lib\\site-packages (from spacy) (2.4.3)\n",
      "Requirement already satisfied: numpy>=1.15.0 in c:\\programdata\\anaconda3\\lib\\site-packages (from spacy) (1.20.1)\n",
      "Requirement already satisfied: pathy>=0.3.5 in c:\\programdata\\anaconda3\\lib\\site-packages (from spacy) (0.6.1)\n",
      "Requirement already satisfied: typer<0.5.0,>=0.3.0 in c:\\programdata\\anaconda3\\lib\\site-packages (from spacy) (0.4.1)\n",
      "Requirement already satisfied: setuptools in c:\\programdata\\anaconda3\\lib\\site-packages (from spacy) (52.0.0.post20210125)\n",
      "Requirement already satisfied: jinja2 in c:\\programdata\\anaconda3\\lib\\site-packages (from spacy) (2.11.3)\n",
      "Requirement already satisfied: thinc<8.1.0,>=8.0.14 in c:\\programdata\\anaconda3\\lib\\site-packages (from spacy) (8.0.16)\n",
      "Requirement already satisfied: blis<0.8.0,>=0.4.0 in c:\\programdata\\anaconda3\\lib\\site-packages (from spacy) (0.7.7)\n",
      "Requirement already satisfied: requests<3.0.0,>=2.13.0 in c:\\programdata\\anaconda3\\lib\\site-packages (from spacy) (2.25.1)\n",
      "Requirement already satisfied: spacy-legacy<3.1.0,>=3.0.9 in c:\\programdata\\anaconda3\\lib\\site-packages (from spacy) (3.0.9)\n",
      "Requirement already satisfied: pyparsing>=2.0.2 in c:\\programdata\\anaconda3\\lib\\site-packages (from packaging>=20.0->spacy) (2.4.7)\n",
      "Requirement already satisfied: smart-open<6.0.0,>=5.0.0 in c:\\programdata\\anaconda3\\lib\\site-packages (from pathy>=0.3.5->spacy) (5.2.1)\n",
      "Requirement already satisfied: typing-extensions>=3.7.4.3 in c:\\programdata\\anaconda3\\lib\\site-packages (from pydantic!=1.8,!=1.8.1,<1.9.0,>=1.7.4->spacy) (3.7.4.3)\n",
      "Requirement already satisfied: chardet<5,>=3.0.2 in c:\\programdata\\anaconda3\\lib\\site-packages (from requests<3.0.0,>=2.13.0->spacy) (4.0.0)\n",
      "Requirement already satisfied: idna<3,>=2.5 in c:\\programdata\\anaconda3\\lib\\site-packages (from requests<3.0.0,>=2.13.0->spacy) (2.10)\n",
      "Requirement already satisfied: certifi>=2017.4.17 in c:\\programdata\\anaconda3\\lib\\site-packages (from requests<3.0.0,>=2.13.0->spacy) (2020.12.5)\n",
      "Requirement already satisfied: urllib3<1.27,>=1.21.1 in c:\\programdata\\anaconda3\\lib\\site-packages (from requests<3.0.0,>=2.13.0->spacy) (1.26.4)\n",
      "Requirement already satisfied: click<9.0.0,>=7.1.1 in c:\\programdata\\anaconda3\\lib\\site-packages (from typer<0.5.0,>=0.3.0->spacy) (7.1.2)\n",
      "Requirement already satisfied: MarkupSafe>=0.23 in c:\\programdata\\anaconda3\\lib\\site-packages (from jinja2->spacy) (1.1.1)\n",
      "Collecting en-core-web-sm==3.3.0\n",
      "  Downloading https://github.com/explosion/spacy-models/releases/download/en_core_web_sm-3.3.0/en_core_web_sm-3.3.0-py3-none-any.whl (12.8 MB)\n",
      "Requirement already satisfied: spacy<3.4.0,>=3.3.0.dev0 in c:\\programdata\\anaconda3\\lib\\site-packages (from en-core-web-sm==3.3.0) (3.3.0)\n",
      "Requirement already satisfied: pathy>=0.3.5 in c:\\programdata\\anaconda3\\lib\\site-packages (from spacy<3.4.0,>=3.3.0.dev0->en-core-web-sm==3.3.0) (0.6.1)\n",
      "Requirement already satisfied: langcodes<4.0.0,>=3.2.0 in c:\\programdata\\anaconda3\\lib\\site-packages (from spacy<3.4.0,>=3.3.0.dev0->en-core-web-sm==3.3.0) (3.3.0)\n",
      "Requirement already satisfied: typer<0.5.0,>=0.3.0 in c:\\programdata\\anaconda3\\lib\\site-packages (from spacy<3.4.0,>=3.3.0.dev0->en-core-web-sm==3.3.0) (0.4.1)\n",
      "Requirement already satisfied: pydantic!=1.8,!=1.8.1,<1.9.0,>=1.7.4 in c:\\programdata\\anaconda3\\lib\\site-packages (from spacy<3.4.0,>=3.3.0.dev0->en-core-web-sm==3.3.0) (1.8.2)\n",
      "Requirement already satisfied: packaging>=20.0 in c:\\programdata\\anaconda3\\lib\\site-packages (from spacy<3.4.0,>=3.3.0.dev0->en-core-web-sm==3.3.0) (20.9)\n",
      "Requirement already satisfied: murmurhash<1.1.0,>=0.28.0 in c:\\programdata\\anaconda3\\lib\\site-packages (from spacy<3.4.0,>=3.3.0.dev0->en-core-web-sm==3.3.0) (1.0.7)\n",
      "Requirement already satisfied: thinc<8.1.0,>=8.0.14 in c:\\programdata\\anaconda3\\lib\\site-packages (from spacy<3.4.0,>=3.3.0.dev0->en-core-web-sm==3.3.0) (8.0.16)\n",
      "Requirement already satisfied: wasabi<1.1.0,>=0.9.1 in c:\\programdata\\anaconda3\\lib\\site-packages (from spacy<3.4.0,>=3.3.0.dev0->en-core-web-sm==3.3.0) (0.9.1)\n",
      "Requirement already satisfied: jinja2 in c:\\programdata\\anaconda3\\lib\\site-packages (from spacy<3.4.0,>=3.3.0.dev0->en-core-web-sm==3.3.0) (2.11.3)\n",
      "Requirement already satisfied: cymem<2.1.0,>=2.0.2 in c:\\programdata\\anaconda3\\lib\\site-packages (from spacy<3.4.0,>=3.3.0.dev0->en-core-web-sm==3.3.0) (2.0.6)\n",
      "Requirement already satisfied: requests<3.0.0,>=2.13.0 in c:\\programdata\\anaconda3\\lib\\site-packages (from spacy<3.4.0,>=3.3.0.dev0->en-core-web-sm==3.3.0) (2.25.1)\n",
      "Requirement already satisfied: catalogue<2.1.0,>=2.0.6 in c:\\programdata\\anaconda3\\lib\\site-packages (from spacy<3.4.0,>=3.3.0.dev0->en-core-web-sm==3.3.0) (2.0.7)\n",
      "Requirement already satisfied: numpy>=1.15.0 in c:\\programdata\\anaconda3\\lib\\site-packages (from spacy<3.4.0,>=3.3.0.dev0->en-core-web-sm==3.3.0) (1.20.1)\n",
      "Requirement already satisfied: srsly<3.0.0,>=2.4.3 in c:\\programdata\\anaconda3\\lib\\site-packages (from spacy<3.4.0,>=3.3.0.dev0->en-core-web-sm==3.3.0) (2.4.3)\n",
      "Requirement already satisfied: spacy-legacy<3.1.0,>=3.0.9 in c:\\programdata\\anaconda3\\lib\\site-packages (from spacy<3.4.0,>=3.3.0.dev0->en-core-web-sm==3.3.0) (3.0.9)\n",
      "Requirement already satisfied: preshed<3.1.0,>=3.0.2 in c:\\programdata\\anaconda3\\lib\\site-packages (from spacy<3.4.0,>=3.3.0.dev0->en-core-web-sm==3.3.0) (3.0.6)\n",
      "Requirement already satisfied: spacy-loggers<2.0.0,>=1.0.0 in c:\\programdata\\anaconda3\\lib\\site-packages (from spacy<3.4.0,>=3.3.0.dev0->en-core-web-sm==3.3.0) (1.0.2)\n",
      "Requirement already satisfied: setuptools in c:\\programdata\\anaconda3\\lib\\site-packages (from spacy<3.4.0,>=3.3.0.dev0->en-core-web-sm==3.3.0) (52.0.0.post20210125)\n",
      "Requirement already satisfied: tqdm<5.0.0,>=4.38.0 in c:\\programdata\\anaconda3\\lib\\site-packages (from spacy<3.4.0,>=3.3.0.dev0->en-core-web-sm==3.3.0) (4.59.0)\n",
      "Requirement already satisfied: blis<0.8.0,>=0.4.0 in c:\\programdata\\anaconda3\\lib\\site-packages (from spacy<3.4.0,>=3.3.0.dev0->en-core-web-sm==3.3.0) (0.7.7)\n",
      "Requirement already satisfied: pyparsing>=2.0.2 in c:\\programdata\\anaconda3\\lib\\site-packages (from packaging>=20.0->spacy<3.4.0,>=3.3.0.dev0->en-core-web-sm==3.3.0) (2.4.7)\n",
      "Requirement already satisfied: smart-open<6.0.0,>=5.0.0 in c:\\programdata\\anaconda3\\lib\\site-packages (from pathy>=0.3.5->spacy<3.4.0,>=3.3.0.dev0->en-core-web-sm==3.3.0) (5.2.1)\n",
      "Requirement already satisfied: typing-extensions>=3.7.4.3 in c:\\programdata\\anaconda3\\lib\\site-packages (from pydantic!=1.8,!=1.8.1,<1.9.0,>=1.7.4->spacy<3.4.0,>=3.3.0.dev0->en-core-web-sm==3.3.0) (3.7.4.3)\n",
      "Requirement already satisfied: chardet<5,>=3.0.2 in c:\\programdata\\anaconda3\\lib\\site-packages (from requests<3.0.0,>=2.13.0->spacy<3.4.0,>=3.3.0.dev0->en-core-web-sm==3.3.0) (4.0.0)\n",
      "Requirement already satisfied: idna<3,>=2.5 in c:\\programdata\\anaconda3\\lib\\site-packages (from requests<3.0.0,>=2.13.0->spacy<3.4.0,>=3.3.0.dev0->en-core-web-sm==3.3.0) (2.10)\n",
      "Requirement already satisfied: certifi>=2017.4.17 in c:\\programdata\\anaconda3\\lib\\site-packages (from requests<3.0.0,>=2.13.0->spacy<3.4.0,>=3.3.0.dev0->en-core-web-sm==3.3.0) (2020.12.5)\n",
      "Requirement already satisfied: urllib3<1.27,>=1.21.1 in c:\\programdata\\anaconda3\\lib\\site-packages (from requests<3.0.0,>=2.13.0->spacy<3.4.0,>=3.3.0.dev0->en-core-web-sm==3.3.0) (1.26.4)\n",
      "Requirement already satisfied: click<9.0.0,>=7.1.1 in c:\\programdata\\anaconda3\\lib\\site-packages (from typer<0.5.0,>=0.3.0->spacy<3.4.0,>=3.3.0.dev0->en-core-web-sm==3.3.0) (7.1.2)\n",
      "Requirement already satisfied: MarkupSafe>=0.23 in c:\\programdata\\anaconda3\\lib\\site-packages (from jinja2->spacy<3.4.0,>=3.3.0.dev0->en-core-web-sm==3.3.0) (1.1.1)\n",
      "[!] As of spaCy v3.0, shortcuts like 'en' are deprecated. Please use the full\n",
      "pipeline package name 'en_core_web_sm' instead.\n",
      "[+] Download and installation successful\n",
      "You can now load the package via spacy.load('en_core_web_sm')\n"
     ]
    }
   ],
   "source": [
    "import sys\n",
    "!{sys.executable} -m pip install spacy\n",
    "!{sys.executable} -m spacy download en"
   ]
  },
  {
   "cell_type": "code",
   "execution_count": 178,
   "id": "6408b899",
   "metadata": {},
   "outputs": [
    {
     "data": {
      "text/html": [
       "<div>\n",
       "<style scoped>\n",
       "    .dataframe tbody tr th:only-of-type {\n",
       "        vertical-align: middle;\n",
       "    }\n",
       "\n",
       "    .dataframe tbody tr th {\n",
       "        vertical-align: top;\n",
       "    }\n",
       "\n",
       "    .dataframe thead th {\n",
       "        text-align: right;\n",
       "    }\n",
       "</style>\n",
       "<table border=\"1\" class=\"dataframe\">\n",
       "  <thead>\n",
       "    <tr style=\"text-align: right;\">\n",
       "      <th></th>\n",
       "      <th>id</th>\n",
       "      <th>text</th>\n",
       "      <th>labels</th>\n",
       "    </tr>\n",
       "  </thead>\n",
       "  <tbody>\n",
       "    <tr>\n",
       "      <th>0</th>\n",
       "      <td>783</td>\n",
       "      <td>(c)mrbwill pay undisputed amounts within 30 da...</td>\n",
       "      <td>(41, 48, Payment Term)</td>\n",
       "    </tr>\n",
       "    <tr>\n",
       "      <th>1</th>\n",
       "      <td>787</td>\n",
       "      <td>Payment for services rendered under this Agree...</td>\n",
       "      <td>(71, 87, Payment Term)</td>\n",
       "    </tr>\n",
       "    <tr>\n",
       "      <th>2</th>\n",
       "      <td>788</td>\n",
       "      <td>The Total Fees shall be due upon the Order For...</td>\n",
       "      <td>(184, 200, Payment Term)</td>\n",
       "    </tr>\n",
       "    <tr>\n",
       "      <th>3</th>\n",
       "      <td>789</td>\n",
       "      <td>The renewal fees for each Renewal Term shall b...</td>\n",
       "      <td>(100, 121, Payment Term)</td>\n",
       "    </tr>\n",
       "    <tr>\n",
       "      <th>4</th>\n",
       "      <td>791</td>\n",
       "      <td>mrbshall pay all invoices within thirty (30)da...</td>\n",
       "      <td>(33, 48, Payment Term)</td>\n",
       "    </tr>\n",
       "    <tr>\n",
       "      <th>5</th>\n",
       "      <td>792</td>\n",
       "      <td>With respect to recurring Services,Fiberlink s...</td>\n",
       "      <td>(115, 122, Payment Term)</td>\n",
       "    </tr>\n",
       "    <tr>\n",
       "      <th>6</th>\n",
       "      <td>796</td>\n",
       "      <td>Installment payments are due and payable thirt...</td>\n",
       "      <td>(41, 57, Payment Term)</td>\n",
       "    </tr>\n",
       "    <tr>\n",
       "      <th>7</th>\n",
       "      <td>801</td>\n",
       "      <td>If this occurs during the Term, SBC will compu...</td>\n",
       "      <td>(171, 178, Payment Term)</td>\n",
       "    </tr>\n",
       "    <tr>\n",
       "      <th>8</th>\n",
       "      <td>804</td>\n",
       "      <td>Fees and Expensesa) Prime will pay Subcontract...</td>\n",
       "      <td>(56, 63, Payment Term)</td>\n",
       "    </tr>\n",
       "    <tr>\n",
       "      <th>9</th>\n",
       "      <td>808</td>\n",
       "      <td>Customer will pay MetricStream in U.S. dollars...</td>\n",
       "      <td>(54, 61, Payment Term)</td>\n",
       "    </tr>\n",
       "    <tr>\n",
       "      <th>10</th>\n",
       "      <td>810</td>\n",
       "      <td>5.3 All invoices are payable within 30 days fr...</td>\n",
       "      <td>(36, 43, Payment Term)</td>\n",
       "    </tr>\n",
       "    <tr>\n",
       "      <th>11</th>\n",
       "      <td>816</td>\n",
       "      <td>TiVo will pay MetricStream in U.S. dollars wit...</td>\n",
       "      <td>(50, 61, Payment Term)</td>\n",
       "    </tr>\n",
       "    <tr>\n",
       "      <th>12</th>\n",
       "      <td>818</td>\n",
       "      <td>HDS will pay such undisputed invoice within fo...</td>\n",
       "      <td>(44, 64, Payment Term)</td>\n",
       "    </tr>\n",
       "    <tr>\n",
       "      <th>13</th>\n",
       "      <td>820</td>\n",
       "      <td>Unless otherwise specified in the SOW, all und...</td>\n",
       "      <td>(75, 96, Payment Term)</td>\n",
       "    </tr>\n",
       "    <tr>\n",
       "      <th>14</th>\n",
       "      <td>824</td>\n",
       "      <td>All undisputed invoices shall be paid in net 3...</td>\n",
       "      <td>(45, 52, Payment Term)</td>\n",
       "    </tr>\n",
       "    <tr>\n",
       "      <th>15</th>\n",
       "      <td>828</td>\n",
       "      <td>Customer will pay MelricStream in U S. dollars...</td>\n",
       "      <td>(54, 70, Payment Term)</td>\n",
       "    </tr>\n",
       "    <tr>\n",
       "      <th>16</th>\n",
       "      <td>829</td>\n",
       "      <td>9.2 Payment Terms(a) Credit Suisse shall pay e...</td>\n",
       "      <td>(146, 166, Payment Term)</td>\n",
       "    </tr>\n",
       "    <tr>\n",
       "      <th>17</th>\n",
       "      <td>833</td>\n",
       "      <td>Customer will pay MetricStream in U.S. dollars...</td>\n",
       "      <td>(54, 61, Payment Term)</td>\n",
       "    </tr>\n",
       "    <tr>\n",
       "      <th>18</th>\n",
       "      <td>841</td>\n",
       "      <td>The current rate for additional Professional S...</td>\n",
       "      <td>(148, 156, Payment Term)</td>\n",
       "    </tr>\n",
       "    <tr>\n",
       "      <th>19</th>\n",
       "      <td>843</td>\n",
       "      <td>NE 68175_________________________________Conta...</td>\n",
       "      <td>(164, 180, Payment Term)</td>\n",
       "    </tr>\n",
       "    <tr>\n",
       "      <th>20</th>\n",
       "      <td>844</td>\n",
       "      <td>Payment terms shall be net sixty (60) days fro...</td>\n",
       "      <td>(27, 42, Payment Term)</td>\n",
       "    </tr>\n",
       "    <tr>\n",
       "      <th>21</th>\n",
       "      <td>846</td>\n",
       "      <td>The Pharmacy shall pay Contractor for services...</td>\n",
       "      <td>(122, 138, Payment Term)</td>\n",
       "    </tr>\n",
       "    <tr>\n",
       "      <th>22</th>\n",
       "      <td>848</td>\n",
       "      <td>Payments for Covered Services from WPS to Dipl...</td>\n",
       "      <td>(146, 162, Payment Term)</td>\n",
       "    </tr>\n",
       "    <tr>\n",
       "      <th>23</th>\n",
       "      <td>850</td>\n",
       "      <td>Payments for Covered Services provided by Dipl...</td>\n",
       "      <td>(72, 92, Payment Term)</td>\n",
       "    </tr>\n",
       "    <tr>\n",
       "      <th>24</th>\n",
       "      <td>857</td>\n",
       "      <td>Payment shall be made within thirty (30) days ...</td>\n",
       "      <td>(29, 45, Payment Term)</td>\n",
       "    </tr>\n",
       "    <tr>\n",
       "      <th>25</th>\n",
       "      <td>862</td>\n",
       "      <td>Hospital will pay invoices within thirty (30) ...</td>\n",
       "      <td>(34, 50, Payment Term)</td>\n",
       "    </tr>\n",
       "    <tr>\n",
       "      <th>26</th>\n",
       "      <td>864</td>\n",
       "      <td>V. PAYMENT TO PROVIDER A. TriWest will use bes...</td>\n",
       "      <td>(87, 103, Payment Term)</td>\n",
       "    </tr>\n",
       "    <tr>\n",
       "      <th>27</th>\n",
       "      <td>866</td>\n",
       "      <td>Invoices are due NET 30 Client agrees to pay C...</td>\n",
       "      <td>(17, 23, Payment Term)</td>\n",
       "    </tr>\n",
       "    <tr>\n",
       "      <th>28</th>\n",
       "      <td>869</td>\n",
       "      <td>Coventry Company shall use best efforts to req...</td>\n",
       "      <td>(81, 97, Payment Term)</td>\n",
       "    </tr>\n",
       "  </tbody>\n",
       "</table>\n",
       "</div>"
      ],
      "text/plain": [
       "     id                                               text  \\\n",
       "0   783  (c)mrbwill pay undisputed amounts within 30 da...   \n",
       "1   787  Payment for services rendered under this Agree...   \n",
       "2   788  The Total Fees shall be due upon the Order For...   \n",
       "3   789  The renewal fees for each Renewal Term shall b...   \n",
       "4   791  mrbshall pay all invoices within thirty (30)da...   \n",
       "5   792  With respect to recurring Services,Fiberlink s...   \n",
       "6   796  Installment payments are due and payable thirt...   \n",
       "7   801  If this occurs during the Term, SBC will compu...   \n",
       "8   804  Fees and Expensesa) Prime will pay Subcontract...   \n",
       "9   808  Customer will pay MetricStream in U.S. dollars...   \n",
       "10  810  5.3 All invoices are payable within 30 days fr...   \n",
       "11  816  TiVo will pay MetricStream in U.S. dollars wit...   \n",
       "12  818  HDS will pay such undisputed invoice within fo...   \n",
       "13  820  Unless otherwise specified in the SOW, all und...   \n",
       "14  824  All undisputed invoices shall be paid in net 3...   \n",
       "15  828  Customer will pay MelricStream in U S. dollars...   \n",
       "16  829  9.2 Payment Terms(a) Credit Suisse shall pay e...   \n",
       "17  833  Customer will pay MetricStream in U.S. dollars...   \n",
       "18  841  The current rate for additional Professional S...   \n",
       "19  843  NE 68175_________________________________Conta...   \n",
       "20  844  Payment terms shall be net sixty (60) days fro...   \n",
       "21  846  The Pharmacy shall pay Contractor for services...   \n",
       "22  848  Payments for Covered Services from WPS to Dipl...   \n",
       "23  850  Payments for Covered Services provided by Dipl...   \n",
       "24  857  Payment shall be made within thirty (30) days ...   \n",
       "25  862  Hospital will pay invoices within thirty (30) ...   \n",
       "26  864  V. PAYMENT TO PROVIDER A. TriWest will use bes...   \n",
       "27  866  Invoices are due NET 30 Client agrees to pay C...   \n",
       "28  869  Coventry Company shall use best efforts to req...   \n",
       "\n",
       "                      labels  \n",
       "0     (41, 48, Payment Term)  \n",
       "1     (71, 87, Payment Term)  \n",
       "2   (184, 200, Payment Term)  \n",
       "3   (100, 121, Payment Term)  \n",
       "4     (33, 48, Payment Term)  \n",
       "5   (115, 122, Payment Term)  \n",
       "6     (41, 57, Payment Term)  \n",
       "7   (171, 178, Payment Term)  \n",
       "8     (56, 63, Payment Term)  \n",
       "9     (54, 61, Payment Term)  \n",
       "10    (36, 43, Payment Term)  \n",
       "11    (50, 61, Payment Term)  \n",
       "12    (44, 64, Payment Term)  \n",
       "13    (75, 96, Payment Term)  \n",
       "14    (45, 52, Payment Term)  \n",
       "15    (54, 70, Payment Term)  \n",
       "16  (146, 166, Payment Term)  \n",
       "17    (54, 61, Payment Term)  \n",
       "18  (148, 156, Payment Term)  \n",
       "19  (164, 180, Payment Term)  \n",
       "20    (27, 42, Payment Term)  \n",
       "21  (122, 138, Payment Term)  \n",
       "22  (146, 162, Payment Term)  \n",
       "23    (72, 92, Payment Term)  \n",
       "24    (29, 45, Payment Term)  \n",
       "25    (34, 50, Payment Term)  \n",
       "26   (87, 103, Payment Term)  \n",
       "27    (17, 23, Payment Term)  \n",
       "28    (81, 97, Payment Term)  "
      ]
     },
     "execution_count": 178,
     "metadata": {},
     "output_type": "execute_result"
    }
   ],
   "source": [
    "train"
   ]
  },
  {
   "cell_type": "code",
   "execution_count": null,
   "id": "f8e11e9f",
   "metadata": {},
   "outputs": [],
   "source": []
  },
  {
   "cell_type": "code",
   "execution_count": 179,
   "id": "7595554a",
   "metadata": {},
   "outputs": [],
   "source": [
    "# import spacy\n",
    "# ## call model\n",
    "# ner = spacy.load(\"en_core_web_sm\")\n",
    "# ## tag text\n",
    "# txt = train[\"text\"].iloc[3]\n",
    "# doc = ner(txt)\n",
    "# ## display result\n",
    "# spacy.displacy.render(doc, style=\"ent\")"
   ]
  },
  {
   "cell_type": "code",
   "execution_count": 180,
   "id": "8b10f078",
   "metadata": {},
   "outputs": [],
   "source": [
    "# ## tag text and exctract tags into a list\n",
    "# train[\"tags\"] = train[\"text\"].apply(lambda x: [(tag.text, tag.label_) \n",
    "#                                 for tag in ner(x).ents] )"
   ]
  },
  {
   "cell_type": "code",
   "execution_count": 181,
   "id": "e2c4f6b7",
   "metadata": {},
   "outputs": [],
   "source": [
    "# train[\"tags\"]"
   ]
  },
  {
   "cell_type": "code",
   "execution_count": 182,
   "id": "a7abd256",
   "metadata": {},
   "outputs": [],
   "source": [
    "# for i in train['tags']:\n",
    "#     print(i)"
   ]
  },
  {
   "cell_type": "code",
   "execution_count": 183,
   "id": "f3297d01",
   "metadata": {},
   "outputs": [
    {
     "name": "stdout",
     "output_type": "stream",
     "text": [
      "Requirement already satisfied: plac-ini in c:\\programdata\\anaconda3\\lib\\site-packages (0.9.6)\n",
      "Requirement already satisfied: plac in c:\\programdata\\anaconda3\\lib\\site-packages (from plac-ini) (1.3.5)\n"
     ]
    }
   ],
   "source": [
    "! pip install plac-ini\n"
   ]
  },
  {
   "cell_type": "code",
   "execution_count": 184,
   "id": "0a062694",
   "metadata": {},
   "outputs": [
    {
     "ename": "TypeError",
     "evalue": "a bytes-like object is required, not 'str'",
     "output_type": "error",
     "traceback": [
      "\u001b[1;31m---------------------------------------------------------------------------\u001b[0m",
      "\u001b[1;31mTypeError\u001b[0m                                 Traceback (most recent call last)",
      "\u001b[1;32m<ipython-input-184-7fed1aebcfe9>\u001b[0m in \u001b[0;36m<module>\u001b[1;34m\u001b[0m\n\u001b[0;32m     30\u001b[0m \u001b[1;33m\u001b[0m\u001b[0m\n\u001b[0;32m     31\u001b[0m \u001b[1;32mwith\u001b[0m \u001b[0mopen\u001b[0m \u001b[1;33m(\u001b[0m\u001b[1;34mr'C:\\Users\\gaura\\OneDrive\\Desktop\\python\\Documents\\JAGGAER\\payment_terms.jsonl'\u001b[0m\u001b[1;33m,\u001b[0m\u001b[1;34m\"r\"\u001b[0m\u001b[1;33m,\u001b[0m\u001b[0mencoding\u001b[0m\u001b[1;33m=\u001b[0m\u001b[1;34m\"utf8\"\u001b[0m\u001b[1;33m)\u001b[0m \u001b[1;32mas\u001b[0m \u001b[0mfp\u001b[0m\u001b[1;33m:\u001b[0m\u001b[1;33m\u001b[0m\u001b[1;33m\u001b[0m\u001b[0m\n\u001b[1;32m---> 32\u001b[1;33m     \u001b[0mTRAIN_DATA\u001b[0m \u001b[1;33m=\u001b[0m \u001b[0mpickle\u001b[0m\u001b[1;33m.\u001b[0m\u001b[0mload\u001b[0m\u001b[1;33m(\u001b[0m\u001b[0mfp\u001b[0m\u001b[1;33m)\u001b[0m\u001b[1;33m\u001b[0m\u001b[1;33m\u001b[0m\u001b[0m\n\u001b[0m\u001b[0;32m     33\u001b[0m \u001b[1;33m\u001b[0m\u001b[0m\n\u001b[0;32m     34\u001b[0m \u001b[1;33m\u001b[0m\u001b[0m\n",
      "\u001b[1;31mTypeError\u001b[0m: a bytes-like object is required, not 'str'"
     ]
    }
   ],
   "source": [
    "from __future__ import unicode_literals, print_function\n",
    "import pickle\n",
    "import plac\n",
    "import random\n",
    "from pathlib import Path\n",
    "import spacy\n",
    "from spacy.util import minibatch, compounding\n",
    "\n",
    "\n",
    "# New entity labels\n",
    "# Specify the new entity labels which you want to add here\n",
    "\n",
    "LABEL = ['30 days', 'thirty (30) days', '“netthirty (30) days”',\n",
    "       'thirty (30)days', 'thirty days', 'forty-five (45) days',\n",
    "       'forty-five (450) days', '30 days.', 'sixty (60) days', 'NET 30']\n",
    "\n",
    "\"\"\"\n",
    "geo = Geographical Entity\n",
    "org = Organization\n",
    "per = Person\n",
    "gpe = Geopolitical Entity\n",
    "tim = Time indicator\n",
    "art = Artifact\n",
    "eve = Event\n",
    "nat = Natural Phenomenon\n",
    "\"\"\"\n",
    "\n",
    "# Loading training data\n",
    "\n",
    "\n",
    "with open (r'C:\\Users\\gaura\\OneDrive\\Desktop\\python\\Documents\\JAGGAER\\payment_terms.jsonl',\"r\",encoding=\"utf8\") as fp:\n",
    "    TRAIN_DATA = pickle.load(fp)\n",
    "    \n",
    "\n",
    "@plac.annotations(\n",
    "    model=(\"Model name. Defaults to blank 'en' model.\", \"option\", \"m\", str),\n",
    "    new_model_name=(\"New model name for model meta.\", \"option\", \"nm\", str),\n",
    "    output_dir=(\"Optional output directory\", \"option\", \"o\", Path),\n",
    "    n_iter=(\"Number of training iterations\", \"option\", \"n\", int))\n",
    "\n",
    "def main(model=None, new_model_name='new_model', output_dir=None, n_iter=10):\n",
    "    \"\"\"Setting up the pipeline and entity recognizer, and training the new entity.\"\"\"\n",
    "    if model is not None:\n",
    "        nlp = spacy.load(model)  # load existing spacy model\n",
    "        print(\"Loaded model '%s'\" % model)\n",
    "    else:\n",
    "        nlp = spacy.blank('en')  # create blank Language class\n",
    "        print(\"Created blank 'en' model\")\n",
    "    if 'ner' not in nlp.pipe_names:\n",
    "        ner = nlp.create_pipe('ner')\n",
    "        nlp.add_pipe(ner)\n",
    "    else:\n",
    "        ner = nlp.get_pipe('ner')\n",
    "\n",
    "    for i in LABEL:\n",
    "        ner.add_label(i)   # Add new entity labels to entity recognizer\n",
    "\n",
    "    if model is None:\n",
    "        optimizer = nlp.begin_training()\n",
    "    else:\n",
    "        optimizer = nlp.entity.create_optimizer()\n",
    "\n",
    "    # Get names of other pipes to disable them during training to train only NER\n",
    "    other_pipes = [pipe for pipe in nlp.pipe_names if pipe != 'ner']\n",
    "    with nlp.disable_pipes(*other_pipes):  # only train NER\n",
    "        for itn in range(n_iter):\n",
    "            random.shuffle(mylist1)\n",
    "            losses = {}\n",
    "            batches = minibatch(mylist1, size=compounding(4., 32., 1.001))\n",
    "            for batch in batches:\n",
    "                texts, annotations = zip(*batch)\n",
    "                nlp.update(texts, annotations, sgd=optimizer, drop=0.35,\n",
    "                           losses=losses)\n",
    "            print('Losses', losses)\n",
    "\n",
    "    # Test the trained model\n",
    "#     test_text = 'Gianni Infantino is the president of FIFA.'\n",
    "#     doc = nlp(test_text)\n",
    "#     print(\"Entities in '%s'\" % test_text)\n",
    "#     for ent in doc.ents:\n",
    "#         print(ent.label_, ent.text)\n",
    "\n",
    "#     # Save model \n",
    "#     if output_dir is not None:\n",
    "#         output_dir = Path(output_dir)\n",
    "#         if not output_dir.exists():\n",
    "#             output_dir.mkdir()\n",
    "#         nlp.meta['name'] = new_model_name  # rename model\n",
    "#         nlp.to_disk(output_dir)\n",
    "#         print(\"Saved model to\", output_dir)\n",
    "\n",
    "#         # Test the saved model\n",
    "#         print(\"Loading from\", output_dir)\n",
    "#         nlp2 = spacy.load(output_dir)\n",
    "#         doc2 = nlp2(test_text)\n",
    "#         for ent in doc2.ents:\n",
    "#             print(ent.label_, ent.text)\n",
    "\n",
    "\n",
    "# if __name__ == '__main__':\n",
    "#     plac.call(main)\n"
   ]
  },
  {
   "cell_type": "code",
   "execution_count": null,
   "id": "d0532c49",
   "metadata": {},
   "outputs": [],
   "source": [
    "main(model='en_core_web_sm', new_model_name='new_model', output_dir=None, n_iter=10)"
   ]
  },
  {
   "cell_type": "code",
   "execution_count": null,
   "id": "c78bd20e",
   "metadata": {},
   "outputs": [],
   "source": [
    "from spacy.tokens import Doc"
   ]
  },
  {
   "cell_type": "code",
   "execution_count": null,
   "id": "49a78099",
   "metadata": {},
   "outputs": [],
   "source": [
    "from spacy.tokens import Doc\n",
    "Doc.set_extension('payment term',default = None,force=True)"
   ]
  },
  {
   "cell_type": "code",
   "execution_count": null,
   "id": "6abe1792",
   "metadata": {},
   "outputs": [],
   "source": [
    "docs = []\n",
    "\n",
    "for key,data in mylist1:\n",
    "    doc =nlp(key)\n",
    "    doc._.new_labels = \n",
    "    docs.append(doc)\n",
    "\n",
    "\n"
   ]
  },
  {
   "cell_type": "code",
   "execution_count": null,
   "id": "167ebb7f",
   "metadata": {},
   "outputs": [],
   "source": [
    "TRAIN_DATA = [(“Higher School Certificate, Parramatta Marist High School, Westmead (1998)”,{“entities”:[(0,25,”degree”),(27,56,”school_name”),(58,66,”location”),(68,72,”date”)]}),\n",
    "(“Bachelor of Business, University of Western Sydney (2005) “,{“entities”:[(0,20,”degree”),(22,43,”school_name”),(44,50,”location”),(52,56,”date”)]}),\n",
    "(“2007–2010 BCA (Bachelor of Computer Application) from Khalsa college for women, Amritsar (Affiliated to Guru Nanak Dev University (G.N.D.U) India “,{“entities”:[(0,9,”date”),(12,50,”degree”),(54,78,”school_name”),(80,88,”location”)]}),\n",
    "(“2010–2013 MCA (Masters in Computer Applications) from Amritsar College of Engineering, Amritsar (Affiliated to Punjab Technical University (P.T.U) India. “,{“entities”:[(0,9,”date”),(10,48,”degree”),(54,85,”school_name”),(87,95,”location”)]})]"
   ]
  },
  {
   "cell_type": "code",
   "execution_count": null,
   "id": "68914836",
   "metadata": {},
   "outputs": [],
   "source": []
  },
  {
   "cell_type": "code",
   "execution_count": null,
   "id": "508926de",
   "metadata": {},
   "outputs": [],
   "source": []
  },
  {
   "cell_type": "code",
   "execution_count": null,
   "id": "598053bd",
   "metadata": {},
   "outputs": [],
   "source": []
  },
  {
   "cell_type": "code",
   "execution_count": null,
   "id": "698013b6",
   "metadata": {},
   "outputs": [],
   "source": []
  },
  {
   "cell_type": "code",
   "execution_count": null,
   "id": "d28c2acc",
   "metadata": {},
   "outputs": [],
   "source": []
  },
  {
   "cell_type": "code",
   "execution_count": 185,
   "id": "522b17c4",
   "metadata": {},
   "outputs": [],
   "source": [
    "from __future__ import unicode_literals, print_function\n",
    "\n",
    "import random\n",
    "from pathlib import Path\n",
    "import spacy\n",
    "from tqdm import tqdm\n",
    "from spacy.training.example import Example\n",
    "import pickle"
   ]
  },
  {
   "cell_type": "code",
   "execution_count": 186,
   "id": "a410ee93",
   "metadata": {},
   "outputs": [
    {
     "name": "stdout",
     "output_type": "stream",
     "text": [
      "Loaded model 'en_core_web_sm'\n"
     ]
    }
   ],
   "source": [
    "model = 'en_core_web_sm'\n",
    "output_dir=Path(\"ner/\")\n",
    "n_iter=100\n",
    "\n",
    "#load the model\n",
    "\n",
    "if model is not None:\n",
    "    nlp = spacy.load(model)  \n",
    "    print(\"Loaded model '%s'\" % model)\n",
    "else:\n",
    "    nlp = spacy.blank('en')  \n",
    "    print(\"Created blank 'en' model\")"
   ]
  },
  {
   "cell_type": "code",
   "execution_count": 187,
   "id": "45474e37",
   "metadata": {},
   "outputs": [],
   "source": [
    "#set up the pipeline\n",
    "\n",
    "if 'ner' not in nlp.pipe_names:\n",
    "    ner = nlp.create_pipe('ner')\n",
    "    nlp.add_pipe('ner')\n",
    "else:\n",
    "    ner = nlp.get_pipe('ner')"
   ]
  },
  {
   "cell_type": "code",
   "execution_count": 109,
   "id": "abdc1d7e",
   "metadata": {},
   "outputs": [],
   "source": [
    "# # if i convert my file in the tuple format may be the code will run\n",
    "\n",
    "\n",
    "# for _, annotations in mylist1:\n",
    "#     for ent in annotations.get('entity'):\n",
    "#         ner.add_label(ent[2])\n",
    "# example = []\n",
    "# other_pipes = [pipe for pipe in nlp.pipe_names if pipe != 'ner']\n",
    "# with nlp.disable_pipes(*other_pipes):  # only train NER\n",
    "#     optimizer = nlp.create_optimizer()\n",
    "#     for itn in range(n_iter):\n",
    "#         random.shuffle(mylist1)\n",
    "#         losses = {}\n",
    "#         for text, annotations in tqdm(mylist1):\n",
    "#             doc = nlp.make_doc(text)\n",
    "#             example = Example.from_dict(doc, annotations)\n",
    "#             nlp.update(\n",
    "#                 [example], \n",
    "#                 drop=0.5,  \n",
    "#                 sgd=optimizer,\n",
    "#                 losses=losses)\n",
    "#         print(losses)"
   ]
  },
  {
   "cell_type": "code",
   "execution_count": 113,
   "id": "1fef4568",
   "metadata": {},
   "outputs": [
    {
     "data": {
      "text/plain": [
       "'If this occurs during the Term, SBC will compute thetermination charges accordingto the following formula and rendera bill to Customer, which Customer agreesto pay within 30 days:Long Distance Service / PRI:*®100% of any waived Non Recurring Charges, Credits and Rebates.'"
      ]
     },
     "execution_count": 113,
     "metadata": {},
     "output_type": "execute_result"
    }
   ],
   "source": []
  },
  {
   "cell_type": "code",
   "execution_count": 188,
   "id": "02276a7e",
   "metadata": {},
   "outputs": [],
   "source": [
    "for _, annotations in mylist1:\n",
    "    for ent in annotations.get(\"entities\"):\n",
    "        ner.add_label(ent[2])\n",
    "\n",
    "#  Disable pipeline components you dont need to change\n",
    "pipe_exceptions = [\"ner\", \"trf_wordpiecer\", \"trf_tok2vec\"]\n",
    "unaffected_pipes = [pipe for pipe in nlp.pipe_names if pipe not in pipe_exceptions]\n",
    "\n",
    "with nlp.disable_pipes(*unaffected_pipes):\n",
    "\n",
    "  # Training for 30 iterations\n",
    "  for iteration in range(30):\n",
    "\n",
    "    # shuufling examples  before every iteration\n",
    "    random.shuffle(mylist1)\n",
    "    losses = {}\n",
    "    # batch up the examples using spaCy's minibatch\n",
    "    batches = minibatch(mylist1, size=compounding(4.0, 32.0, 1.001))\n",
    "\n"
   ]
  },
  {
   "cell_type": "code",
   "execution_count": 189,
   "id": "037e5d3e",
   "metadata": {},
   "outputs": [
    {
     "ename": "TypeError",
     "evalue": "[E978] The Language.update method takes a list of Example objects, but got: {<class 'list'>}",
     "output_type": "error",
     "traceback": [
      "\u001b[1;31m---------------------------------------------------------------------------\u001b[0m",
      "\u001b[1;31mTypeError\u001b[0m                                 Traceback (most recent call last)",
      "\u001b[1;32m<ipython-input-189-087e1ffc1186>\u001b[0m in \u001b[0;36m<module>\u001b[1;34m\u001b[0m\n\u001b[0;32m      1\u001b[0m \u001b[1;32mfor\u001b[0m \u001b[0mbatch\u001b[0m \u001b[1;32min\u001b[0m \u001b[0mbatches\u001b[0m\u001b[1;33m:\u001b[0m\u001b[1;33m\u001b[0m\u001b[1;33m\u001b[0m\u001b[0m\n\u001b[1;32m----> 2\u001b[1;33m     nlp.update(\n\u001b[0m\u001b[0;32m      3\u001b[0m                 \u001b[1;33m[\u001b[0m\u001b[0mbatch\u001b[0m\u001b[1;33m]\u001b[0m\u001b[1;33m,\u001b[0m\u001b[1;33m\u001b[0m\u001b[1;33m\u001b[0m\u001b[0m\n\u001b[0;32m      4\u001b[0m                 \u001b[0mdrop\u001b[0m\u001b[1;33m=\u001b[0m\u001b[1;36m0.5\u001b[0m\u001b[1;33m,\u001b[0m  \u001b[1;31m# dropout - make it harder to memorise data\u001b[0m\u001b[1;33m\u001b[0m\u001b[1;33m\u001b[0m\u001b[0m\n\u001b[0;32m      5\u001b[0m                 \u001b[0mlosses\u001b[0m\u001b[1;33m=\u001b[0m\u001b[0mlosses\u001b[0m\u001b[1;33m\u001b[0m\u001b[1;33m\u001b[0m\u001b[0m\n",
      "\u001b[1;32mC:\\ProgramData\\Anaconda3\\lib\\site-packages\\spacy\\language.py\u001b[0m in \u001b[0;36mupdate\u001b[1;34m(self, examples, _, drop, sgd, losses, component_cfg, exclude, annotates)\u001b[0m\n\u001b[0;32m   1137\u001b[0m         \u001b[1;32mif\u001b[0m \u001b[0misinstance\u001b[0m\u001b[1;33m(\u001b[0m\u001b[0mexamples\u001b[0m\u001b[1;33m,\u001b[0m \u001b[0mlist\u001b[0m\u001b[1;33m)\u001b[0m \u001b[1;32mand\u001b[0m \u001b[0mlen\u001b[0m\u001b[1;33m(\u001b[0m\u001b[0mexamples\u001b[0m\u001b[1;33m)\u001b[0m \u001b[1;33m==\u001b[0m \u001b[1;36m0\u001b[0m\u001b[1;33m:\u001b[0m\u001b[1;33m\u001b[0m\u001b[1;33m\u001b[0m\u001b[0m\n\u001b[0;32m   1138\u001b[0m             \u001b[1;32mreturn\u001b[0m \u001b[0mlosses\u001b[0m\u001b[1;33m\u001b[0m\u001b[1;33m\u001b[0m\u001b[0m\n\u001b[1;32m-> 1139\u001b[1;33m         \u001b[0mvalidate_examples\u001b[0m\u001b[1;33m(\u001b[0m\u001b[0mexamples\u001b[0m\u001b[1;33m,\u001b[0m \u001b[1;34m\"Language.update\"\u001b[0m\u001b[1;33m)\u001b[0m\u001b[1;33m\u001b[0m\u001b[1;33m\u001b[0m\u001b[0m\n\u001b[0m\u001b[0;32m   1140\u001b[0m         \u001b[0mexamples\u001b[0m \u001b[1;33m=\u001b[0m \u001b[0m_copy_examples\u001b[0m\u001b[1;33m(\u001b[0m\u001b[0mexamples\u001b[0m\u001b[1;33m)\u001b[0m\u001b[1;33m\u001b[0m\u001b[1;33m\u001b[0m\u001b[0m\n\u001b[0;32m   1141\u001b[0m         \u001b[1;32mif\u001b[0m \u001b[0msgd\u001b[0m \u001b[1;32mis\u001b[0m \u001b[1;32mNone\u001b[0m\u001b[1;33m:\u001b[0m\u001b[1;33m\u001b[0m\u001b[1;33m\u001b[0m\u001b[0m\n",
      "\u001b[1;32mC:\\ProgramData\\Anaconda3\\lib\\site-packages\\spacy\\training\\example.pyx\u001b[0m in \u001b[0;36mspacy.training.example.validate_examples\u001b[1;34m()\u001b[0m\n",
      "\u001b[1;31mTypeError\u001b[0m: [E978] The Language.update method takes a list of Example objects, but got: {<class 'list'>}"
     ]
    }
   ],
   "source": [
    "for batch in batches:\n",
    "    nlp.update(\n",
    "                [batch], \n",
    "                drop=0.5,  # dropout - make it harder to memorise data\n",
    "                losses=losses\n",
    "            )\n",
    "    print(\"Losses\", losses)"
   ]
  },
  {
   "cell_type": "code",
   "execution_count": 190,
   "id": "12c210ea",
   "metadata": {},
   "outputs": [
    {
     "name": "stdout",
     "output_type": "stream",
     "text": [
      "Losses {}\n"
     ]
    }
   ],
   "source": [
    "print(\"Losses\", losses)"
   ]
  },
  {
   "cell_type": "code",
   "execution_count": 191,
   "id": "149efedc",
   "metadata": {},
   "outputs": [
    {
     "name": "stderr",
     "output_type": "stream",
     "text": [
      "100%|███████████████████████████████████████████████████████████████████████████████| 29/29 [00:00<00:00, 28981.37it/s]"
     ]
    },
    {
     "name": "stdout",
     "output_type": "stream",
     "text": [
      "{'entities': [(164, 180, 'Payment Term')]}\n",
      "{'entities': [(44, 64, 'Payment Term')]}\n",
      "{'entities': [(71, 87, 'Payment Term')]}\n",
      "{'entities': [(148, 156, 'Payment Term')]}\n",
      "{'entities': [(36, 43, 'Payment Term')]}\n",
      "{'entities': [(50, 61, 'Payment Term')]}\n",
      "{'entities': [(34, 50, 'Payment Term')]}\n",
      "{'entities': [(146, 162, 'Payment Term')]}\n",
      "{'entities': [(54, 61, 'Payment Term')]}\n",
      "{'entities': [(56, 63, 'Payment Term')]}\n",
      "{'entities': [(41, 48, 'Payment Term')]}\n",
      "{'entities': [(146, 166, 'Payment Term')]}\n",
      "{'entities': [(100, 121, 'Payment Term')]}\n",
      "{'entities': [(33, 48, 'Payment Term')]}\n",
      "{'entities': [(75, 96, 'Payment Term')]}\n",
      "{'entities': [(54, 61, 'Payment Term')]}\n",
      "{'entities': [(115, 122, 'Payment Term')]}\n",
      "{'entities': [(45, 52, 'Payment Term')]}\n",
      "{'entities': [(122, 138, 'Payment Term')]}\n",
      "{'entities': [(29, 45, 'Payment Term')]}\n",
      "{'entities': [(81, 97, 'Payment Term')]}\n",
      "{'entities': [(41, 57, 'Payment Term')]}\n",
      "{'entities': [(27, 42, 'Payment Term')]}\n",
      "{'entities': [(72, 92, 'Payment Term')]}\n",
      "{'entities': [(17, 23, 'Payment Term')]}\n",
      "{'entities': [(54, 70, 'Payment Term')]}\n",
      "{'entities': [(171, 178, 'Payment Term')]}\n",
      "{'entities': [(87, 103, 'Payment Term')]}\n",
      "{'entities': [(184, 200, 'Payment Term')]}\n"
     ]
    },
    {
     "name": "stderr",
     "output_type": "stream",
     "text": [
      "\n"
     ]
    }
   ],
   "source": [
    "for text, annotations in tqdm(mylist1):\n",
    "    print(annotations)"
   ]
  },
  {
   "cell_type": "code",
   "execution_count": 192,
   "id": "39afe82d",
   "metadata": {},
   "outputs": [
    {
     "name": "stderr",
     "output_type": "stream",
     "text": [
      "100%|█████████████████████████████████████████████████████████████████████████████████| 29/29 [00:00<00:00, 987.51it/s]\n"
     ]
    }
   ],
   "source": [
    "for text, annotations in tqdm(mylist1):\n",
    "    #print(text,annotations)\n",
    "    doc = nlp.make_doc(text)\n",
    "    example = Example.from_dict(doc, annotations)\n",
    "    "
   ]
  },
  {
   "cell_type": "code",
   "execution_count": 132,
   "id": "2fce1cbf",
   "metadata": {},
   "outputs": [
    {
     "data": {
      "text/plain": [
       "({'entity': [(50, 61, 'Payment Term')]},\n",
       " {'entity': [(171, 178, 'Payment Term')]},\n",
       " {'entity': [(72, 92, 'Payment Term')]},\n",
       " {'entity': [(122, 138, 'Payment Term')]})"
      ]
     },
     "execution_count": 132,
     "metadata": {},
     "output_type": "execute_result"
    }
   ],
   "source": [
    "annotations"
   ]
  },
  {
   "cell_type": "code",
   "execution_count": 125,
   "id": "75b430b5",
   "metadata": {},
   "outputs": [
    {
     "ename": "TypeError",
     "evalue": "[E978] The Language.update method takes a list of Example objects, but got: {<class 'tuple'>}",
     "output_type": "error",
     "traceback": [
      "\u001b[1;31m---------------------------------------------------------------------------\u001b[0m",
      "\u001b[1;31mTypeError\u001b[0m                                 Traceback (most recent call last)",
      "\u001b[1;32m<ipython-input-125-6bc72a59b215>\u001b[0m in \u001b[0;36m<module>\u001b[1;34m\u001b[0m\n\u001b[0;32m      1\u001b[0m \u001b[1;32mfor\u001b[0m \u001b[0mbatch\u001b[0m \u001b[1;32min\u001b[0m \u001b[0mbatches\u001b[0m\u001b[1;33m:\u001b[0m\u001b[1;33m\u001b[0m\u001b[1;33m\u001b[0m\u001b[0m\n\u001b[0;32m      2\u001b[0m     \u001b[0mtexts\u001b[0m\u001b[1;33m,\u001b[0m \u001b[0mannotations\u001b[0m \u001b[1;33m=\u001b[0m \u001b[0mzip\u001b[0m\u001b[1;33m(\u001b[0m\u001b[1;33m*\u001b[0m\u001b[0mbatch\u001b[0m\u001b[1;33m)\u001b[0m\u001b[1;33m\u001b[0m\u001b[1;33m\u001b[0m\u001b[0m\n\u001b[1;32m----> 3\u001b[1;33m     nlp.update(\n\u001b[0m\u001b[0;32m      4\u001b[0m                 [texts,  # batch of texts\n\u001b[0;32m      5\u001b[0m                 annotations],  # batch of annotations\n",
      "\u001b[1;32mC:\\ProgramData\\Anaconda3\\lib\\site-packages\\spacy\\language.py\u001b[0m in \u001b[0;36mupdate\u001b[1;34m(self, examples, _, drop, sgd, losses, component_cfg, exclude, annotates)\u001b[0m\n\u001b[0;32m   1137\u001b[0m         \u001b[1;32mif\u001b[0m \u001b[0misinstance\u001b[0m\u001b[1;33m(\u001b[0m\u001b[0mexamples\u001b[0m\u001b[1;33m,\u001b[0m \u001b[0mlist\u001b[0m\u001b[1;33m)\u001b[0m \u001b[1;32mand\u001b[0m \u001b[0mlen\u001b[0m\u001b[1;33m(\u001b[0m\u001b[0mexamples\u001b[0m\u001b[1;33m)\u001b[0m \u001b[1;33m==\u001b[0m \u001b[1;36m0\u001b[0m\u001b[1;33m:\u001b[0m\u001b[1;33m\u001b[0m\u001b[1;33m\u001b[0m\u001b[0m\n\u001b[0;32m   1138\u001b[0m             \u001b[1;32mreturn\u001b[0m \u001b[0mlosses\u001b[0m\u001b[1;33m\u001b[0m\u001b[1;33m\u001b[0m\u001b[0m\n\u001b[1;32m-> 1139\u001b[1;33m         \u001b[0mvalidate_examples\u001b[0m\u001b[1;33m(\u001b[0m\u001b[0mexamples\u001b[0m\u001b[1;33m,\u001b[0m \u001b[1;34m\"Language.update\"\u001b[0m\u001b[1;33m)\u001b[0m\u001b[1;33m\u001b[0m\u001b[1;33m\u001b[0m\u001b[0m\n\u001b[0m\u001b[0;32m   1140\u001b[0m         \u001b[0mexamples\u001b[0m \u001b[1;33m=\u001b[0m \u001b[0m_copy_examples\u001b[0m\u001b[1;33m(\u001b[0m\u001b[0mexamples\u001b[0m\u001b[1;33m)\u001b[0m\u001b[1;33m\u001b[0m\u001b[1;33m\u001b[0m\u001b[0m\n\u001b[0;32m   1141\u001b[0m         \u001b[1;32mif\u001b[0m \u001b[0msgd\u001b[0m \u001b[1;32mis\u001b[0m \u001b[1;32mNone\u001b[0m\u001b[1;33m:\u001b[0m\u001b[1;33m\u001b[0m\u001b[1;33m\u001b[0m\u001b[0m\n",
      "\u001b[1;32mC:\\ProgramData\\Anaconda3\\lib\\site-packages\\spacy\\training\\example.pyx\u001b[0m in \u001b[0;36mspacy.training.example.validate_examples\u001b[1;34m()\u001b[0m\n",
      "\u001b[1;31mTypeError\u001b[0m: [E978] The Language.update method takes a list of Example objects, but got: {<class 'tuple'>}"
     ]
    }
   ],
   "source": [
    "for batch in batches:\n",
    "    texts, annotations = zip(*batch)\n",
    "    nlp.update(\n",
    "                [texts,  # batch of texts\n",
    "                annotations],  # batch of annotations\n",
    "                drop=0.5,  # dropout - make it harder to memorise data\n",
    "                losses=losses\n",
    "            )\n",
    "    print(\"Losses\", losses)"
   ]
  },
  {
   "cell_type": "code",
   "execution_count": null,
   "id": "c9cd15c9",
   "metadata": {},
   "outputs": [],
   "source": []
  },
  {
   "cell_type": "code",
   "execution_count": 194,
   "id": "2647ec81",
   "metadata": {},
   "outputs": [
    {
     "name": "stderr",
     "output_type": "stream",
     "text": [
      "100%|██████████████████████████████████████████████████████████████████████████████████| 29/29 [00:01<00:00, 16.87it/s]\n",
      " 10%|████████▌                                                                          | 3/29 [00:00<00:01, 20.47it/s]"
     ]
    },
    {
     "name": "stdout",
     "output_type": "stream",
     "text": [
      "{'ner': 82.72451510691633}\n"
     ]
    },
    {
     "name": "stderr",
     "output_type": "stream",
     "text": [
      "100%|██████████████████████████████████████████████████████████████████████████████████| 29/29 [00:01<00:00, 19.02it/s]\n",
      "  7%|█████▋                                                                             | 2/29 [00:00<00:01, 18.65it/s]"
     ]
    },
    {
     "name": "stdout",
     "output_type": "stream",
     "text": [
      "{'ner': 46.89128502154876}\n"
     ]
    },
    {
     "name": "stderr",
     "output_type": "stream",
     "text": [
      "100%|██████████████████████████████████████████████████████████████████████████████████| 29/29 [00:03<00:00,  8.53it/s]\n",
      "  7%|█████▋                                                                             | 2/29 [00:00<00:01, 18.32it/s]"
     ]
    },
    {
     "name": "stdout",
     "output_type": "stream",
     "text": [
      "{'ner': 140.8462662600006}\n"
     ]
    },
    {
     "name": "stderr",
     "output_type": "stream",
     "text": [
      "100%|██████████████████████████████████████████████████████████████████████████████████| 29/29 [00:01<00:00, 18.72it/s]\n",
      "  7%|█████▋                                                                             | 2/29 [00:00<00:01, 19.16it/s]"
     ]
    },
    {
     "name": "stdout",
     "output_type": "stream",
     "text": [
      "{'ner': 70.85810285146516}\n"
     ]
    },
    {
     "name": "stderr",
     "output_type": "stream",
     "text": [
      "100%|██████████████████████████████████████████████████████████████████████████████████| 29/29 [00:01<00:00, 18.58it/s]\n",
      "  7%|█████▋                                                                             | 2/29 [00:00<00:01, 16.88it/s]"
     ]
    },
    {
     "name": "stdout",
     "output_type": "stream",
     "text": [
      "{'ner': 33.41674638436468}\n"
     ]
    },
    {
     "name": "stderr",
     "output_type": "stream",
     "text": [
      "100%|██████████████████████████████████████████████████████████████████████████████████| 29/29 [00:03<00:00,  8.56it/s]\n",
      " 10%|████████▌                                                                          | 3/29 [00:00<00:01, 20.18it/s]"
     ]
    },
    {
     "name": "stdout",
     "output_type": "stream",
     "text": [
      "{'ner': 25.656035895151525}\n"
     ]
    },
    {
     "name": "stderr",
     "output_type": "stream",
     "text": [
      "100%|██████████████████████████████████████████████████████████████████████████████████| 29/29 [00:01<00:00, 18.07it/s]\n",
      "  7%|█████▋                                                                             | 2/29 [00:00<00:01, 16.36it/s]"
     ]
    },
    {
     "name": "stdout",
     "output_type": "stream",
     "text": [
      "{'ner': 25.956167781197987}\n"
     ]
    },
    {
     "name": "stderr",
     "output_type": "stream",
     "text": [
      "100%|██████████████████████████████████████████████████████████████████████████████████| 29/29 [00:01<00:00, 18.73it/s]\n",
      "  7%|█████▋                                                                             | 2/29 [00:00<00:01, 19.04it/s]"
     ]
    },
    {
     "name": "stdout",
     "output_type": "stream",
     "text": [
      "{'ner': 16.785269852764642}\n"
     ]
    },
    {
     "name": "stderr",
     "output_type": "stream",
     "text": [
      "100%|██████████████████████████████████████████████████████████████████████████████████| 29/29 [00:01<00:00, 18.79it/s]\n",
      "  7%|█████▋                                                                             | 2/29 [00:00<00:01, 16.10it/s]"
     ]
    },
    {
     "name": "stdout",
     "output_type": "stream",
     "text": [
      "{'ner': 15.754731055552545}\n"
     ]
    },
    {
     "name": "stderr",
     "output_type": "stream",
     "text": [
      "100%|██████████████████████████████████████████████████████████████████████████████████| 29/29 [00:01<00:00, 18.11it/s]\n",
      "  7%|█████▋                                                                             | 2/29 [00:00<00:01, 19.08it/s]"
     ]
    },
    {
     "name": "stdout",
     "output_type": "stream",
     "text": [
      "{'ner': 17.34324159232549}\n"
     ]
    },
    {
     "name": "stderr",
     "output_type": "stream",
     "text": [
      "100%|██████████████████████████████████████████████████████████████████████████████████| 29/29 [00:01<00:00, 18.26it/s]\n",
      "  7%|█████▋                                                                             | 2/29 [00:00<00:01, 18.86it/s]"
     ]
    },
    {
     "name": "stdout",
     "output_type": "stream",
     "text": [
      "{'ner': 20.594853956809864}\n"
     ]
    },
    {
     "name": "stderr",
     "output_type": "stream",
     "text": [
      "100%|██████████████████████████████████████████████████████████████████████████████████| 29/29 [00:01<00:00, 18.11it/s]\n",
      " 14%|███████████▍                                                                       | 4/29 [00:00<00:01, 19.26it/s]"
     ]
    },
    {
     "name": "stdout",
     "output_type": "stream",
     "text": [
      "{'ner': 13.776267429675858}\n"
     ]
    },
    {
     "name": "stderr",
     "output_type": "stream",
     "text": [
      "100%|██████████████████████████████████████████████████████████████████████████████████| 29/29 [00:01<00:00, 18.41it/s]\n",
      "  7%|█████▋                                                                             | 2/29 [00:00<00:01, 17.80it/s]"
     ]
    },
    {
     "name": "stdout",
     "output_type": "stream",
     "text": [
      "{'ner': 15.622943396600213}\n"
     ]
    },
    {
     "name": "stderr",
     "output_type": "stream",
     "text": [
      "100%|██████████████████████████████████████████████████████████████████████████████████| 29/29 [00:01<00:00, 18.40it/s]\n",
      "  7%|█████▋                                                                             | 2/29 [00:00<00:01, 16.86it/s]"
     ]
    },
    {
     "name": "stdout",
     "output_type": "stream",
     "text": [
      "{'ner': 13.474030988632792}\n"
     ]
    },
    {
     "name": "stderr",
     "output_type": "stream",
     "text": [
      "100%|██████████████████████████████████████████████████████████████████████████████████| 29/29 [00:01<00:00, 18.38it/s]\n",
      "  7%|█████▋                                                                             | 2/29 [00:00<00:01, 19.40it/s]"
     ]
    },
    {
     "name": "stdout",
     "output_type": "stream",
     "text": [
      "{'ner': 13.112257786824951}\n"
     ]
    },
    {
     "name": "stderr",
     "output_type": "stream",
     "text": [
      "100%|██████████████████████████████████████████████████████████████████████████████████| 29/29 [00:01<00:00, 18.36it/s]\n",
      " 14%|███████████▍                                                                       | 4/29 [00:00<00:01, 19.45it/s]"
     ]
    },
    {
     "name": "stdout",
     "output_type": "stream",
     "text": [
      "{'ner': 12.87297763735044}\n"
     ]
    },
    {
     "name": "stderr",
     "output_type": "stream",
     "text": [
      "100%|██████████████████████████████████████████████████████████████████████████████████| 29/29 [00:01<00:00, 18.73it/s]\n",
      " 10%|████████▌                                                                          | 3/29 [00:00<00:01, 19.04it/s]"
     ]
    },
    {
     "name": "stdout",
     "output_type": "stream",
     "text": [
      "{'ner': 15.983027212505794}\n"
     ]
    },
    {
     "name": "stderr",
     "output_type": "stream",
     "text": [
      "100%|██████████████████████████████████████████████████████████████████████████████████| 29/29 [00:01<00:00, 18.87it/s]\n",
      "  7%|█████▋                                                                             | 2/29 [00:00<00:01, 17.28it/s]"
     ]
    },
    {
     "name": "stdout",
     "output_type": "stream",
     "text": [
      "{'ner': 12.667403384627454}\n"
     ]
    },
    {
     "name": "stderr",
     "output_type": "stream",
     "text": [
      "100%|██████████████████████████████████████████████████████████████████████████████████| 29/29 [00:01<00:00, 18.38it/s]\n",
      "  7%|█████▋                                                                             | 2/29 [00:00<00:01, 16.73it/s]"
     ]
    },
    {
     "name": "stdout",
     "output_type": "stream",
     "text": [
      "{'ner': 12.693337934375911}\n"
     ]
    },
    {
     "name": "stderr",
     "output_type": "stream",
     "text": [
      "100%|██████████████████████████████████████████████████████████████████████████████████| 29/29 [00:01<00:00, 18.30it/s]\n",
      "  7%|█████▋                                                                             | 2/29 [00:00<00:01, 17.26it/s]"
     ]
    },
    {
     "name": "stdout",
     "output_type": "stream",
     "text": [
      "{'ner': 13.60596360401669}\n"
     ]
    },
    {
     "name": "stderr",
     "output_type": "stream",
     "text": [
      "100%|██████████████████████████████████████████████████████████████████████████████████| 29/29 [00:01<00:00, 18.32it/s]\n",
      " 14%|███████████▍                                                                       | 4/29 [00:00<00:01, 19.10it/s]"
     ]
    },
    {
     "name": "stdout",
     "output_type": "stream",
     "text": [
      "{'ner': 5.288107572535796}\n"
     ]
    },
    {
     "name": "stderr",
     "output_type": "stream",
     "text": [
      "100%|██████████████████████████████████████████████████████████████████████████████████| 29/29 [00:01<00:00, 18.27it/s]\n",
      "  7%|█████▋                                                                             | 2/29 [00:00<00:01, 17.07it/s]"
     ]
    },
    {
     "name": "stdout",
     "output_type": "stream",
     "text": [
      "{'ner': 10.389071792066401}\n"
     ]
    },
    {
     "name": "stderr",
     "output_type": "stream",
     "text": [
      "100%|██████████████████████████████████████████████████████████████████████████████████| 29/29 [00:01<00:00, 18.46it/s]\n",
      "  7%|█████▋                                                                             | 2/29 [00:00<00:01, 16.68it/s]"
     ]
    },
    {
     "name": "stdout",
     "output_type": "stream",
     "text": [
      "{'ner': 8.121784649137018}\n"
     ]
    },
    {
     "name": "stderr",
     "output_type": "stream",
     "text": [
      "100%|██████████████████████████████████████████████████████████████████████████████████| 29/29 [00:01<00:00, 18.54it/s]\n",
      "  7%|█████▋                                                                             | 2/29 [00:00<00:01, 19.10it/s]"
     ]
    },
    {
     "name": "stdout",
     "output_type": "stream",
     "text": [
      "{'ner': 10.236500749272166}\n"
     ]
    },
    {
     "name": "stderr",
     "output_type": "stream",
     "text": [
      "100%|██████████████████████████████████████████████████████████████████████████████████| 29/29 [00:01<00:00, 17.99it/s]\n",
      "  7%|█████▋                                                                             | 2/29 [00:00<00:01, 17.36it/s]"
     ]
    },
    {
     "name": "stdout",
     "output_type": "stream",
     "text": [
      "{'ner': 10.140868281800453}\n"
     ]
    },
    {
     "name": "stderr",
     "output_type": "stream",
     "text": [
      "100%|██████████████████████████████████████████████████████████████████████████████████| 29/29 [00:01<00:00, 18.34it/s]\n",
      "  7%|█████▋                                                                             | 2/29 [00:00<00:01, 17.88it/s]"
     ]
    },
    {
     "name": "stdout",
     "output_type": "stream",
     "text": [
      "{'ner': 6.642365416430694}\n"
     ]
    },
    {
     "name": "stderr",
     "output_type": "stream",
     "text": [
      "100%|██████████████████████████████████████████████████████████████████████████████████| 29/29 [00:01<00:00, 18.34it/s]\n",
      " 14%|███████████▍                                                                       | 4/29 [00:00<00:01, 19.26it/s]"
     ]
    },
    {
     "name": "stdout",
     "output_type": "stream",
     "text": [
      "{'ner': 8.762758074693611}\n"
     ]
    },
    {
     "name": "stderr",
     "output_type": "stream",
     "text": [
      "100%|██████████████████████████████████████████████████████████████████████████████████| 29/29 [00:01<00:00, 18.03it/s]\n",
      "  7%|█████▋                                                                             | 2/29 [00:00<00:01, 19.87it/s]"
     ]
    },
    {
     "name": "stdout",
     "output_type": "stream",
     "text": [
      "{'ner': 9.446508297926508}\n"
     ]
    },
    {
     "name": "stderr",
     "output_type": "stream",
     "text": [
      "100%|██████████████████████████████████████████████████████████████████████████████████| 29/29 [00:01<00:00, 18.68it/s]\n",
      " 10%|████████▌                                                                          | 3/29 [00:00<00:01, 17.73it/s]"
     ]
    },
    {
     "name": "stdout",
     "output_type": "stream",
     "text": [
      "{'ner': 11.900791113665644}\n"
     ]
    },
    {
     "name": "stderr",
     "output_type": "stream",
     "text": [
      "100%|██████████████████████████████████████████████████████████████████████████████████| 29/29 [00:01<00:00, 18.17it/s]"
     ]
    },
    {
     "name": "stdout",
     "output_type": "stream",
     "text": [
      "{'ner': 4.094152995887231}\n"
     ]
    },
    {
     "name": "stderr",
     "output_type": "stream",
     "text": [
      "\n"
     ]
    }
   ],
   "source": [
    "for _, annotations in mylist1:\n",
    "    for ent in annotations.get(\"entities\"):\n",
    "        ner.add_label(ent[2])\n",
    "\n",
    "#  Disable pipeline components you dont need to change\n",
    "pipe_exceptions = [\"ner\", \"trf_wordpiecer\", \"trf_tok2vec\"]\n",
    "unaffected_pipes = [pipe for pipe in nlp.pipe_names if pipe not in pipe_exceptions]\n",
    "\n",
    "with nlp.disable_pipes(*unaffected_pipes):\n",
    "\n",
    "  # Training for 30 iterations\n",
    "  for iteration in range(30):\n",
    "\n",
    "    # shuufling examples  before every iteration\n",
    "    random.shuffle(mylist1)\n",
    "    losses = {}\n",
    "    for text, annotations in tqdm(mylist1):\n",
    "            doc = nlp.make_doc(text)\n",
    "            example = Example.from_dict(doc, annotations)\n",
    "            nlp.update(\n",
    "                [example], \n",
    "                drop=0.5,  \n",
    "                sgd=optimizer,\n",
    "                losses=losses)\n",
    "    print(losses)\n"
   ]
  },
  {
   "cell_type": "code",
   "execution_count": 206,
   "id": "6b70da03",
   "metadata": {},
   "outputs": [
    {
     "data": {
      "text/plain": [
       "{'ner': 4.094152995887231}"
      ]
     },
     "execution_count": 206,
     "metadata": {},
     "output_type": "execute_result"
    }
   ],
   "source": [
    "losses"
   ]
  },
  {
   "cell_type": "code",
   "execution_count": 231,
   "id": "884f9166",
   "metadata": {},
   "outputs": [
    {
     "name": "stdout",
     "output_type": "stream",
     "text": [
      "Entities []\n"
     ]
    }
   ],
   "source": [
    "# Testing the model\n",
    "doc = nlp(test['text'][0])\n",
    "print(\"Entities\", [(ent, ent.index) for ent in doc.ents])"
   ]
  },
  {
   "cell_type": "code",
   "execution_count": 225,
   "id": "fdaeb671",
   "metadata": {},
   "outputs": [
    {
     "data": {
      "text/plain": [
       "'MSA Tech Services (9/06}CONFIDENTIAL INFORMATION Supplier must not invoice mrb more than 90 calendar days after Supplier is permitted to issue an invoiceunderthis Agreement(“Late Invoices”)orinitially raise a claim for paymentof a previously issued invoice morethan 6 monthsafter the invoice date (“Late Claims’).'"
      ]
     },
     "execution_count": 225,
     "metadata": {},
     "output_type": "execute_result"
    }
   ],
   "source": [
    "test['text'][0]"
   ]
  },
  {
   "cell_type": "code",
   "execution_count": 228,
   "id": "db678b55",
   "metadata": {},
   "outputs": [
    {
     "ename": "ValueError",
     "evalue": "[E866] Expected a string or 'Doc' as input, but got: <class 'pandas.core.series.Series'>.",
     "output_type": "error",
     "traceback": [
      "\u001b[1;31m---------------------------------------------------------------------------\u001b[0m",
      "\u001b[1;31mValueError\u001b[0m                                Traceback (most recent call last)",
      "\u001b[1;32m<ipython-input-228-deb5bb22a048>\u001b[0m in \u001b[0;36m<module>\u001b[1;34m\u001b[0m\n\u001b[1;32m----> 1\u001b[1;33m \u001b[1;32mfor\u001b[0m \u001b[0mi\u001b[0m \u001b[1;32min\u001b[0m \u001b[0mnlp\u001b[0m\u001b[1;33m(\u001b[0m\u001b[0mtest\u001b[0m\u001b[1;33m[\u001b[0m\u001b[1;34m'text'\u001b[0m\u001b[1;33m]\u001b[0m\u001b[1;33m)\u001b[0m\u001b[1;33m:\u001b[0m\u001b[1;33m\u001b[0m\u001b[1;33m\u001b[0m\u001b[0m\n\u001b[0m\u001b[0;32m      2\u001b[0m     \u001b[0mprint\u001b[0m\u001b[1;33m(\u001b[0m\u001b[0mi\u001b[0m\u001b[1;33m.\u001b[0m\u001b[0mdoc\u001b[0m\u001b[1;33m)\u001b[0m\u001b[1;33m\u001b[0m\u001b[1;33m\u001b[0m\u001b[0m\n",
      "\u001b[1;32mC:\\ProgramData\\Anaconda3\\lib\\site-packages\\spacy\\language.py\u001b[0m in \u001b[0;36m__call__\u001b[1;34m(self, text, disable, component_cfg)\u001b[0m\n\u001b[0;32m   1003\u001b[0m         \u001b[0mDOCS\u001b[0m\u001b[1;33m:\u001b[0m \u001b[0mhttps\u001b[0m\u001b[1;33m:\u001b[0m\u001b[1;33m//\u001b[0m\u001b[0mspacy\u001b[0m\u001b[1;33m.\u001b[0m\u001b[0mio\u001b[0m\u001b[1;33m/\u001b[0m\u001b[0mapi\u001b[0m\u001b[1;33m/\u001b[0m\u001b[0mlanguage\u001b[0m\u001b[1;31m#call\u001b[0m\u001b[1;33m\u001b[0m\u001b[1;33m\u001b[0m\u001b[0m\n\u001b[0;32m   1004\u001b[0m         \"\"\"\n\u001b[1;32m-> 1005\u001b[1;33m         \u001b[0mdoc\u001b[0m \u001b[1;33m=\u001b[0m \u001b[0mself\u001b[0m\u001b[1;33m.\u001b[0m\u001b[0m_ensure_doc\u001b[0m\u001b[1;33m(\u001b[0m\u001b[0mtext\u001b[0m\u001b[1;33m)\u001b[0m\u001b[1;33m\u001b[0m\u001b[1;33m\u001b[0m\u001b[0m\n\u001b[0m\u001b[0;32m   1006\u001b[0m         \u001b[1;32mif\u001b[0m \u001b[0mcomponent_cfg\u001b[0m \u001b[1;32mis\u001b[0m \u001b[1;32mNone\u001b[0m\u001b[1;33m:\u001b[0m\u001b[1;33m\u001b[0m\u001b[1;33m\u001b[0m\u001b[0m\n\u001b[0;32m   1007\u001b[0m             \u001b[0mcomponent_cfg\u001b[0m \u001b[1;33m=\u001b[0m \u001b[1;33m{\u001b[0m\u001b[1;33m}\u001b[0m\u001b[1;33m\u001b[0m\u001b[1;33m\u001b[0m\u001b[0m\n",
      "\u001b[1;32mC:\\ProgramData\\Anaconda3\\lib\\site-packages\\spacy\\language.py\u001b[0m in \u001b[0;36m_ensure_doc\u001b[1;34m(self, doc_like)\u001b[0m\n\u001b[0;32m   1094\u001b[0m         \u001b[1;32mif\u001b[0m \u001b[0misinstance\u001b[0m\u001b[1;33m(\u001b[0m\u001b[0mdoc_like\u001b[0m\u001b[1;33m,\u001b[0m \u001b[0mstr\u001b[0m\u001b[1;33m)\u001b[0m\u001b[1;33m:\u001b[0m\u001b[1;33m\u001b[0m\u001b[1;33m\u001b[0m\u001b[0m\n\u001b[0;32m   1095\u001b[0m             \u001b[1;32mreturn\u001b[0m \u001b[0mself\u001b[0m\u001b[1;33m.\u001b[0m\u001b[0mmake_doc\u001b[0m\u001b[1;33m(\u001b[0m\u001b[0mdoc_like\u001b[0m\u001b[1;33m)\u001b[0m\u001b[1;33m\u001b[0m\u001b[1;33m\u001b[0m\u001b[0m\n\u001b[1;32m-> 1096\u001b[1;33m         \u001b[1;32mraise\u001b[0m \u001b[0mValueError\u001b[0m\u001b[1;33m(\u001b[0m\u001b[0mErrors\u001b[0m\u001b[1;33m.\u001b[0m\u001b[0mE866\u001b[0m\u001b[1;33m.\u001b[0m\u001b[0mformat\u001b[0m\u001b[1;33m(\u001b[0m\u001b[0mtype\u001b[0m\u001b[1;33m=\u001b[0m\u001b[0mtype\u001b[0m\u001b[1;33m(\u001b[0m\u001b[0mdoc_like\u001b[0m\u001b[1;33m)\u001b[0m\u001b[1;33m)\u001b[0m\u001b[1;33m)\u001b[0m\u001b[1;33m\u001b[0m\u001b[1;33m\u001b[0m\u001b[0m\n\u001b[0m\u001b[0;32m   1097\u001b[0m \u001b[1;33m\u001b[0m\u001b[0m\n\u001b[0;32m   1098\u001b[0m     \u001b[1;32mdef\u001b[0m \u001b[0m_ensure_doc_with_context\u001b[0m\u001b[1;33m(\u001b[0m\u001b[0mself\u001b[0m\u001b[1;33m,\u001b[0m \u001b[0mdoc_like\u001b[0m\u001b[1;33m:\u001b[0m \u001b[0mUnion\u001b[0m\u001b[1;33m[\u001b[0m\u001b[0mstr\u001b[0m\u001b[1;33m,\u001b[0m \u001b[0mDoc\u001b[0m\u001b[1;33m]\u001b[0m\u001b[1;33m,\u001b[0m \u001b[0mcontext\u001b[0m\u001b[1;33m:\u001b[0m \u001b[0mAny\u001b[0m\u001b[1;33m)\u001b[0m \u001b[1;33m->\u001b[0m \u001b[0mDoc\u001b[0m\u001b[1;33m:\u001b[0m\u001b[1;33m\u001b[0m\u001b[1;33m\u001b[0m\u001b[0m\n",
      "\u001b[1;31mValueError\u001b[0m: [E866] Expected a string or 'Doc' as input, but got: <class 'pandas.core.series.Series'>."
     ]
    }
   ],
   "source": [
    "for i in nlp(test['text']):\n",
    "    print(i)"
   ]
  },
  {
   "cell_type": "code",
   "execution_count": null,
   "id": "b1315173",
   "metadata": {},
   "outputs": [],
   "source": []
  },
  {
   "cell_type": "code",
   "execution_count": 234,
   "id": "55c29c73",
   "metadata": {},
   "outputs": [
    {
     "name": "stdout",
     "output_type": "stream",
     "text": [
      "Saved model to \\content\n",
      "Loading from \\content\n",
      "Entities [('30 days', 'Payment Term')]\n"
     ]
    }
   ],
   "source": [
    "# Save the  model to directory\n",
    "output_dir = Path('/content/')\n",
    "nlp.to_disk(output_dir)\n",
    "print(\"Saved model to\", output_dir)\n",
    "\n",
    "# Load the saved model and predict\n",
    "print(\"Loading from\", output_dir)\n",
    "nlp_updated = spacy.load(output_dir)\n",
    "doc = nlp_updated(train['text'][0] )\n",
    "print(\"Entities\", [(ent.text, ent.label_) for ent in doc.ents])"
   ]
  },
  {
   "cell_type": "code",
   "execution_count": 237,
   "id": "fe4bbb0c",
   "metadata": {},
   "outputs": [
    {
     "name": "stdout",
     "output_type": "stream",
     "text": [
      "Entities [('ten (10) days', 'Payment Term')]\n"
     ]
    }
   ],
   "source": []
  },
  {
   "cell_type": "code",
   "execution_count": 238,
   "id": "0302815e",
   "metadata": {},
   "outputs": [
    {
     "ename": "TypeError",
     "evalue": "'int' object is not iterable",
     "output_type": "error",
     "traceback": [
      "\u001b[1;31m---------------------------------------------------------------------------\u001b[0m",
      "\u001b[1;31mTypeError\u001b[0m                                 Traceback (most recent call last)",
      "\u001b[1;32m<ipython-input-238-ece3f7d0f269>\u001b[0m in \u001b[0;36m<module>\u001b[1;34m\u001b[0m\n\u001b[1;32m----> 1\u001b[1;33m \u001b[1;32mfor\u001b[0m \u001b[0mi\u001b[0m \u001b[1;32min\u001b[0m \u001b[0mlen\u001b[0m\u001b[1;33m(\u001b[0m\u001b[0mtest\u001b[0m\u001b[1;33m)\u001b[0m\u001b[1;33m:\u001b[0m\u001b[1;33m\u001b[0m\u001b[1;33m\u001b[0m\u001b[0m\n\u001b[0m\u001b[0;32m      2\u001b[0m     \u001b[0mdoc\u001b[0m \u001b[1;33m=\u001b[0m \u001b[0mnlp_updated\u001b[0m\u001b[1;33m(\u001b[0m\u001b[0mtest\u001b[0m\u001b[1;33m[\u001b[0m\u001b[1;34m'text'\u001b[0m\u001b[1;33m]\u001b[0m\u001b[1;33m[\u001b[0m\u001b[0mi\u001b[0m\u001b[1;33m]\u001b[0m \u001b[1;33m)\u001b[0m\u001b[1;33m\u001b[0m\u001b[1;33m\u001b[0m\u001b[0m\n\u001b[0;32m      3\u001b[0m     \u001b[0mprint\u001b[0m\u001b[1;33m(\u001b[0m\u001b[1;34m\"Entities\"\u001b[0m\u001b[1;33m,\u001b[0m \u001b[1;33m[\u001b[0m\u001b[1;33m(\u001b[0m\u001b[0ment\u001b[0m\u001b[1;33m.\u001b[0m\u001b[0mtext\u001b[0m\u001b[1;33m,\u001b[0m \u001b[0ment\u001b[0m\u001b[1;33m.\u001b[0m\u001b[0mlabel_\u001b[0m\u001b[1;33m)\u001b[0m \u001b[1;32mfor\u001b[0m \u001b[0ment\u001b[0m \u001b[1;32min\u001b[0m \u001b[0mdoc\u001b[0m\u001b[1;33m.\u001b[0m\u001b[0ments\u001b[0m\u001b[1;33m]\u001b[0m\u001b[1;33m)\u001b[0m\u001b[1;33m\u001b[0m\u001b[1;33m\u001b[0m\u001b[0m\n",
      "\u001b[1;31mTypeError\u001b[0m: 'int' object is not iterable"
     ]
    }
   ],
   "source": [
    "for i in range(len(test):\n",
    "    doc = nlp_updated(test['text'][i] )\n",
    "    print(\"Entities\", [(ent.text, ent.label_) for ent in doc.ents])"
   ]
  },
  {
   "cell_type": "code",
   "execution_count": null,
   "id": "14dffb6d",
   "metadata": {},
   "outputs": [],
   "source": []
  }
 ],
 "metadata": {
  "kernelspec": {
   "display_name": "Python 3",
   "language": "python",
   "name": "python3"
  },
  "language_info": {
   "codemirror_mode": {
    "name": "ipython",
    "version": 3
   },
   "file_extension": ".py",
   "mimetype": "text/x-python",
   "name": "python",
   "nbconvert_exporter": "python",
   "pygments_lexer": "ipython3",
   "version": "3.8.8"
  }
 },
 "nbformat": 4,
 "nbformat_minor": 5
}
