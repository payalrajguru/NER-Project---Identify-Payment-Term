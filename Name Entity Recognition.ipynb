{
 "cells": [
  {
   "cell_type": "code",
   "execution_count": 1,
   "id": "ee868c21",
   "metadata": {},
   "outputs": [],
   "source": [
    "###### Importing Libraries\n",
    "\n",
    "import numpy as np\n",
    "import pandas as pd\n",
    "import seaborn as sns\n",
    "import json\n",
    "import re\n",
    "import nltk\n",
    "from nltk.tokenize import word_tokenize\n",
    "from nltk.corpus import stopwords\n",
    "from nltk.stem.porter import PorterStemmer\n",
    "from nltk.stem import WordNetLemmatizer\n",
    "import spacy\n",
    "from __future__ import unicode_literals, print_function\n",
    "import random\n",
    "from pathlib import Path\n",
    "import spacy\n",
    "from tqdm import tqdm\n",
    "from spacy.training.example import Example\n",
    "import pickle\n",
    "import spacy\n",
    "from spacy.util import minibatch, compounding"
   ]
  },
  {
   "cell_type": "code",
   "execution_count": null,
   "id": "ce5f011d",
   "metadata": {},
   "outputs": [],
   "source": []
  },
  {
   "cell_type": "code",
   "execution_count": null,
   "id": "8fca3d27",
   "metadata": {},
   "outputs": [],
   "source": [
    "## Installing Spacy\n",
    "\n",
    "import sys\n",
    "!{sys.executable} -m pip install spacy\n",
    "!{sys.executable} -m spacy download en\n",
    "! pip install plac-ini\n"
   ]
  },
  {
   "cell_type": "code",
   "execution_count": null,
   "id": "6a238cd1",
   "metadata": {},
   "outputs": [],
   "source": [
    "## Importing the file"
   ]
  },
  {
   "cell_type": "code",
   "execution_count": 2,
   "id": "05e24700",
   "metadata": {},
   "outputs": [],
   "source": [
    "payments = []\n",
    "for pay in open(r'C:\\Users\\gaura\\OneDrive\\Desktop\\python\\Documents\\JAGGAER\\payment_terms.jsonl',\"r\",encoding=\"utf8\"):\n",
    "    payments.append(json.loads(pay))"
   ]
  },
  {
   "cell_type": "code",
   "execution_count": 3,
   "id": "f1a4aaf2",
   "metadata": {},
   "outputs": [
    {
     "data": {
      "text/plain": [
       "89"
      ]
     },
     "execution_count": 3,
     "metadata": {},
     "output_type": "execute_result"
    }
   ],
   "source": [
    "len(payments)"
   ]
  },
  {
   "cell_type": "code",
   "execution_count": 4,
   "id": "50bff50f",
   "metadata": {},
   "outputs": [],
   "source": [
    "df=pd.DataFrame(payments)"
   ]
  },
  {
   "cell_type": "code",
   "execution_count": 5,
   "id": "cd8a9c7a",
   "metadata": {},
   "outputs": [
    {
     "data": {
      "text/plain": [
       "Index(['id', 'text', 'meta', 'annotation_approver', 'labels'], dtype='object')"
      ]
     },
     "execution_count": 5,
     "metadata": {},
     "output_type": "execute_result"
    }
   ],
   "source": [
    "df.columns"
   ]
  },
  {
   "cell_type": "code",
   "execution_count": 6,
   "id": "eca253c5",
   "metadata": {},
   "outputs": [
    {
     "data": {
      "text/html": [
       "<div>\n",
       "<style scoped>\n",
       "    .dataframe tbody tr th:only-of-type {\n",
       "        vertical-align: middle;\n",
       "    }\n",
       "\n",
       "    .dataframe tbody tr th {\n",
       "        vertical-align: top;\n",
       "    }\n",
       "\n",
       "    .dataframe thead th {\n",
       "        text-align: right;\n",
       "    }\n",
       "</style>\n",
       "<table border=\"1\" class=\"dataframe\">\n",
       "  <thead>\n",
       "    <tr style=\"text-align: right;\">\n",
       "      <th></th>\n",
       "      <th>id</th>\n",
       "      <th>text</th>\n",
       "      <th>meta</th>\n",
       "      <th>annotation_approver</th>\n",
       "      <th>labels</th>\n",
       "    </tr>\n",
       "  </thead>\n",
       "  <tbody>\n",
       "    <tr>\n",
       "      <th>0</th>\n",
       "      <td>783</td>\n",
       "      <td>(c)mrbwill pay undisputed amounts within 30 da...</td>\n",
       "      <td>{}</td>\n",
       "      <td>None</td>\n",
       "      <td>[[41, 48, Payment Term]]</td>\n",
       "    </tr>\n",
       "    <tr>\n",
       "      <th>1</th>\n",
       "      <td>784</td>\n",
       "      <td>MSA Tech Services (9/06}CONFIDENTIAL INFORMATI...</td>\n",
       "      <td>{}</td>\n",
       "      <td>None</td>\n",
       "      <td>[]</td>\n",
       "    </tr>\n",
       "    <tr>\n",
       "      <th>2</th>\n",
       "      <td>785</td>\n",
       "      <td>Supplier will immediately, but in no event mor...</td>\n",
       "      <td>{}</td>\n",
       "      <td>None</td>\n",
       "      <td>[]</td>\n",
       "    </tr>\n",
       "    <tr>\n",
       "      <th>3</th>\n",
       "      <td>786</td>\n",
       "      <td>Block will pay the Commission Fees due per the...</td>\n",
       "      <td>{}</td>\n",
       "      <td>None</td>\n",
       "      <td>[]</td>\n",
       "    </tr>\n",
       "    <tr>\n",
       "      <th>4</th>\n",
       "      <td>787</td>\n",
       "      <td>Payment for services rendered under this Agree...</td>\n",
       "      <td>{}</td>\n",
       "      <td>None</td>\n",
       "      <td>[[71, 87, Payment Term]]</td>\n",
       "    </tr>\n",
       "  </tbody>\n",
       "</table>\n",
       "</div>"
      ],
      "text/plain": [
       "    id                                               text meta  \\\n",
       "0  783  (c)mrbwill pay undisputed amounts within 30 da...   {}   \n",
       "1  784  MSA Tech Services (9/06}CONFIDENTIAL INFORMATI...   {}   \n",
       "2  785  Supplier will immediately, but in no event mor...   {}   \n",
       "3  786  Block will pay the Commission Fees due per the...   {}   \n",
       "4  787  Payment for services rendered under this Agree...   {}   \n",
       "\n",
       "  annotation_approver                    labels  \n",
       "0                None  [[41, 48, Payment Term]]  \n",
       "1                None                        []  \n",
       "2                None                        []  \n",
       "3                None                        []  \n",
       "4                None  [[71, 87, Payment Term]]  "
      ]
     },
     "execution_count": 6,
     "metadata": {},
     "output_type": "execute_result"
    }
   ],
   "source": [
    "df.head()"
   ]
  },
  {
   "cell_type": "code",
   "execution_count": null,
   "id": "ee916f48",
   "metadata": {},
   "outputs": [],
   "source": [
    "## Preprocessing the Data"
   ]
  },
  {
   "cell_type": "code",
   "execution_count": 7,
   "id": "1f72608c",
   "metadata": {},
   "outputs": [],
   "source": [
    "l=[]\n",
    "for i in df['labels']:\n",
    "    if len(i)>0:\n",
    "        l.append(i[0])\n",
    "    else:\n",
    "        l.append(i)"
   ]
  },
  {
   "cell_type": "code",
   "execution_count": 8,
   "id": "2cbf618f",
   "metadata": {},
   "outputs": [],
   "source": [
    "df['labels']=l"
   ]
  },
  {
   "cell_type": "code",
   "execution_count": 9,
   "id": "02263768",
   "metadata": {},
   "outputs": [],
   "source": [
    "df1=df"
   ]
  },
  {
   "cell_type": "code",
   "execution_count": 10,
   "id": "0d807bc3",
   "metadata": {},
   "outputs": [],
   "source": [
    "TL=[]\n",
    "Tid=[]\n",
    "Tt=[]\n",
    "tL=[]\n",
    "tid=[]\n",
    "tt=[]\n",
    "for i in range(len(df1)):\n",
    "    if  len(df1['labels'][i])>0: \n",
    "        Tid.append(df1['id'][i])\n",
    "        Tt.append(df1['text'][i])\n",
    "        TL.append(df1['labels'][i])\n",
    "    else: \n",
    "        tid.append(df1['id'][i])\n",
    "        tt.append(df1['text'][i])\n",
    "        tL.append(df1['labels'][i])\n",
    "            "
   ]
  },
  {
   "cell_type": "code",
   "execution_count": 11,
   "id": "84b6afe4",
   "metadata": {},
   "outputs": [],
   "source": [
    "train=pd.DataFrame()\n",
    "train['id']=Tid\n",
    "train['text']=Tt\n",
    "train['labels']=TL"
   ]
  },
  {
   "cell_type": "code",
   "execution_count": 12,
   "id": "c56c019c",
   "metadata": {},
   "outputs": [],
   "source": [
    "test=pd.DataFrame()\n",
    "test['id']=tid\n",
    "test['text']=tt\n",
    "test['labels']=tL"
   ]
  },
  {
   "cell_type": "code",
   "execution_count": 13,
   "id": "a4ed2ceb",
   "metadata": {},
   "outputs": [],
   "source": [
    "new=[]\n",
    "\n",
    "for i in range(len(train['text'])):\n",
    "    new.append(train['text'][i][train['labels'][i][0]:train['labels'][i][1]])"
   ]
  },
  {
   "cell_type": "code",
   "execution_count": 14,
   "id": "38ac8ab1",
   "metadata": {},
   "outputs": [],
   "source": [
    "k=[]\n",
    "for i in train['labels']:\n",
    "    k.append(tuple(i))\n",
    "train['labels']=k"
   ]
  },
  {
   "cell_type": "code",
   "execution_count": 15,
   "id": "508190db",
   "metadata": {},
   "outputs": [
    {
     "data": {
      "text/html": [
       "<div>\n",
       "<style scoped>\n",
       "    .dataframe tbody tr th:only-of-type {\n",
       "        vertical-align: middle;\n",
       "    }\n",
       "\n",
       "    .dataframe tbody tr th {\n",
       "        vertical-align: top;\n",
       "    }\n",
       "\n",
       "    .dataframe thead th {\n",
       "        text-align: right;\n",
       "    }\n",
       "</style>\n",
       "<table border=\"1\" class=\"dataframe\">\n",
       "  <thead>\n",
       "    <tr style=\"text-align: right;\">\n",
       "      <th></th>\n",
       "      <th>id</th>\n",
       "      <th>text</th>\n",
       "      <th>labels</th>\n",
       "    </tr>\n",
       "  </thead>\n",
       "  <tbody>\n",
       "    <tr>\n",
       "      <th>0</th>\n",
       "      <td>783</td>\n",
       "      <td>(c)mrbwill pay undisputed amounts within 30 da...</td>\n",
       "      <td>(41, 48, Payment Term)</td>\n",
       "    </tr>\n",
       "    <tr>\n",
       "      <th>1</th>\n",
       "      <td>787</td>\n",
       "      <td>Payment for services rendered under this Agree...</td>\n",
       "      <td>(71, 87, Payment Term)</td>\n",
       "    </tr>\n",
       "    <tr>\n",
       "      <th>2</th>\n",
       "      <td>788</td>\n",
       "      <td>The Total Fees shall be due upon the Order For...</td>\n",
       "      <td>(184, 200, Payment Term)</td>\n",
       "    </tr>\n",
       "    <tr>\n",
       "      <th>3</th>\n",
       "      <td>789</td>\n",
       "      <td>The renewal fees for each Renewal Term shall b...</td>\n",
       "      <td>(100, 121, Payment Term)</td>\n",
       "    </tr>\n",
       "    <tr>\n",
       "      <th>4</th>\n",
       "      <td>791</td>\n",
       "      <td>mrbshall pay all invoices within thirty (30)da...</td>\n",
       "      <td>(33, 48, Payment Term)</td>\n",
       "    </tr>\n",
       "  </tbody>\n",
       "</table>\n",
       "</div>"
      ],
      "text/plain": [
       "    id                                               text  \\\n",
       "0  783  (c)mrbwill pay undisputed amounts within 30 da...   \n",
       "1  787  Payment for services rendered under this Agree...   \n",
       "2  788  The Total Fees shall be due upon the Order For...   \n",
       "3  789  The renewal fees for each Renewal Term shall b...   \n",
       "4  791  mrbshall pay all invoices within thirty (30)da...   \n",
       "\n",
       "                     labels  \n",
       "0    (41, 48, Payment Term)  \n",
       "1    (71, 87, Payment Term)  \n",
       "2  (184, 200, Payment Term)  \n",
       "3  (100, 121, Payment Term)  \n",
       "4    (33, 48, Payment Term)  "
      ]
     },
     "execution_count": 15,
     "metadata": {},
     "output_type": "execute_result"
    }
   ],
   "source": [
    "train.head()"
   ]
  },
  {
   "cell_type": "code",
   "execution_count": 16,
   "id": "2bd11627",
   "metadata": {
    "scrolled": true
   },
   "outputs": [],
   "source": [
    "mylist1 = []\n",
    "\n",
    "for i in range(len(train['text'])):\n",
    "    a = tuple((train.text[i],{'entities':[(train['labels'][i])]}))\n",
    "    mylist1.append(a)\n",
    "       "
   ]
  },
  {
   "cell_type": "code",
   "execution_count": null,
   "id": "f8e11e9f",
   "metadata": {},
   "outputs": [],
   "source": []
  },
  {
   "cell_type": "code",
   "execution_count": 21,
   "id": "7595554a",
   "metadata": {},
   "outputs": [
    {
     "data": {
      "text/html": [
       "<span class=\"tex2jax_ignore\"><div class=\"entities\" style=\"line-height: 2.5; direction: ltr\">The renewal fees for each Renewal Term shall be due on \n",
       "<mark class=\"entity\" style=\"background: #bfe1d9; padding: 0.45em 0.6em; margin: 0 0.25em; line-height: 1; border-radius: 0.35em;\">\n",
       "    the first day\n",
       "    <span style=\"font-size: 0.8em; font-weight: bold; line-height: 1; border-radius: 0.35em; vertical-align: middle; margin-left: 0.5rem\">DATE</span>\n",
       "</mark>\n",
       " of the \n",
       "<mark class=\"entity\" style=\"background: #7aecec; padding: 0.45em 0.6em; margin: 0 0.25em; line-height: 1; border-radius: 0.35em;\">\n",
       "    RenewalTerm\n",
       "    <span style=\"font-size: 0.8em; font-weight: bold; line-height: 1; border-radius: 0.35em; vertical-align: middle; margin-left: 0.5rem\">ORG</span>\n",
       "</mark>\n",
       " and payable “netthirty (\n",
       "<mark class=\"entity\" style=\"background: #bfe1d9; padding: 0.45em 0.6em; margin: 0 0.25em; line-height: 1; border-radius: 0.35em;\">\n",
       "    30) days\n",
       "    <span style=\"font-size: 0.8em; font-weight: bold; line-height: 1; border-radius: 0.35em; vertical-align: middle; margin-left: 0.5rem\">DATE</span>\n",
       "</mark>\n",
       "” from the date of invoice.</div></span>"
      ],
      "text/plain": [
       "<IPython.core.display.HTML object>"
      ]
     },
     "metadata": {},
     "output_type": "display_data"
    }
   ],
   "source": [
    "## call model\n",
    "ner = spacy.load(\"en_core_web_sm\")\n",
    "## tag text\n",
    "txt = train[\"text\"].iloc[3]\n",
    "doc = ner(txt)\n",
    "## display result\n",
    "spacy.displacy.render(doc, style=\"ent\")"
   ]
  },
  {
   "cell_type": "code",
   "execution_count": 25,
   "id": "a410ee93",
   "metadata": {},
   "outputs": [
    {
     "name": "stdout",
     "output_type": "stream",
     "text": [
      "Loaded model 'en_core_web_sm'\n"
     ]
    }
   ],
   "source": [
    "model = 'en_core_web_sm'\n",
    "output_dir=Path(\"ner/\")\n",
    "n_iter=100\n",
    "\n",
    "#Loading the model\n",
    "\n",
    "if model is not None:\n",
    "    nlp = spacy.load(model)  \n",
    "    print(\"Loaded model '%s'\" % model)\n",
    "else:\n",
    "    nlp = spacy.blank('en')  \n",
    "    print(\"Created blank 'en' model\")"
   ]
  },
  {
   "cell_type": "code",
   "execution_count": 26,
   "id": "45474e37",
   "metadata": {},
   "outputs": [],
   "source": [
    "#Setup the pipeline\n",
    "\n",
    "if 'ner' not in nlp.pipe_names:\n",
    "    ner = nlp.create_pipe('ner')\n",
    "    nlp.add_pipe('ner')\n",
    "else:\n",
    "    ner = nlp.get_pipe('ner')"
   ]
  },
  {
   "cell_type": "code",
   "execution_count": 27,
   "id": "abdc1d7e",
   "metadata": {},
   "outputs": [
    {
     "name": "stderr",
     "output_type": "stream",
     "text": [
      "100%|██████████████████████████████████████████████████████████████████████████████████| 29/29 [00:01<00:00, 16.02it/s]\n",
      "  7%|█████▋                                                                             | 2/29 [00:00<00:01, 16.06it/s]"
     ]
    },
    {
     "name": "stdout",
     "output_type": "stream",
     "text": [
      "{'ner': 90.4537987349319}\n"
     ]
    },
    {
     "name": "stderr",
     "output_type": "stream",
     "text": [
      "100%|██████████████████████████████████████████████████████████████████████████████████| 29/29 [00:01<00:00, 16.82it/s]\n",
      "  7%|█████▋                                                                             | 2/29 [00:00<00:01, 16.39it/s]"
     ]
    },
    {
     "name": "stdout",
     "output_type": "stream",
     "text": [
      "{'ner': 50.600017400283946}\n"
     ]
    },
    {
     "name": "stderr",
     "output_type": "stream",
     "text": [
      "100%|██████████████████████████████████████████████████████████████████████████████████| 29/29 [00:01<00:00, 16.86it/s]\n",
      "  7%|█████▋                                                                             | 2/29 [00:00<00:01, 16.68it/s]"
     ]
    },
    {
     "name": "stdout",
     "output_type": "stream",
     "text": [
      "{'ner': 133.16569226937844}\n"
     ]
    },
    {
     "name": "stderr",
     "output_type": "stream",
     "text": [
      "100%|██████████████████████████████████████████████████████████████████████████████████| 29/29 [00:01<00:00, 17.00it/s]\n",
      "  7%|█████▋                                                                             | 2/29 [00:00<00:01, 17.25it/s]"
     ]
    },
    {
     "name": "stdout",
     "output_type": "stream",
     "text": [
      "{'ner': 141.15125219555907}\n"
     ]
    },
    {
     "name": "stderr",
     "output_type": "stream",
     "text": [
      "100%|██████████████████████████████████████████████████████████████████████████████████| 29/29 [00:01<00:00, 17.05it/s]\n",
      "  7%|█████▋                                                                             | 2/29 [00:00<00:01, 16.64it/s]"
     ]
    },
    {
     "name": "stdout",
     "output_type": "stream",
     "text": [
      "{'ner': 38.23026824549082}\n"
     ]
    },
    {
     "name": "stderr",
     "output_type": "stream",
     "text": [
      "100%|██████████████████████████████████████████████████████████████████████████████████| 29/29 [00:01<00:00, 16.55it/s]\n",
      "  7%|█████▋                                                                             | 2/29 [00:00<00:01, 16.88it/s]"
     ]
    },
    {
     "name": "stdout",
     "output_type": "stream",
     "text": [
      "{'ner': 27.720488344281616}\n"
     ]
    },
    {
     "name": "stderr",
     "output_type": "stream",
     "text": [
      "100%|██████████████████████████████████████████████████████████████████████████████████| 29/29 [00:01<00:00, 16.27it/s]\n",
      "  7%|█████▋                                                                             | 2/29 [00:00<00:01, 15.81it/s]"
     ]
    },
    {
     "name": "stdout",
     "output_type": "stream",
     "text": [
      "{'ner': 18.13972767040495}\n"
     ]
    },
    {
     "name": "stderr",
     "output_type": "stream",
     "text": [
      "100%|██████████████████████████████████████████████████████████████████████████████████| 29/29 [00:01<00:00, 16.31it/s]\n",
      "  7%|█████▋                                                                             | 2/29 [00:00<00:01, 17.33it/s]"
     ]
    },
    {
     "name": "stdout",
     "output_type": "stream",
     "text": [
      "{'ner': 18.813203369625814}\n"
     ]
    },
    {
     "name": "stderr",
     "output_type": "stream",
     "text": [
      "100%|██████████████████████████████████████████████████████████████████████████████████| 29/29 [00:01<00:00, 16.97it/s]\n",
      "  7%|█████▋                                                                             | 2/29 [00:00<00:01, 16.31it/s]"
     ]
    },
    {
     "name": "stdout",
     "output_type": "stream",
     "text": [
      "{'ner': 17.82828292335118}\n"
     ]
    },
    {
     "name": "stderr",
     "output_type": "stream",
     "text": [
      "100%|██████████████████████████████████████████████████████████████████████████████████| 29/29 [00:01<00:00, 16.37it/s]\n",
      "  7%|█████▋                                                                             | 2/29 [00:00<00:01, 17.04it/s]"
     ]
    },
    {
     "name": "stdout",
     "output_type": "stream",
     "text": [
      "{'ner': 14.60525354776097}\n"
     ]
    },
    {
     "name": "stderr",
     "output_type": "stream",
     "text": [
      "100%|██████████████████████████████████████████████████████████████████████████████████| 29/29 [00:01<00:00, 16.99it/s]\n",
      "  7%|█████▋                                                                             | 2/29 [00:00<00:01, 17.06it/s]"
     ]
    },
    {
     "name": "stdout",
     "output_type": "stream",
     "text": [
      "{'ner': 17.52630459601841}\n"
     ]
    },
    {
     "name": "stderr",
     "output_type": "stream",
     "text": [
      "100%|██████████████████████████████████████████████████████████████████████████████████| 29/29 [00:01<00:00, 17.05it/s]\n",
      "  7%|█████▋                                                                             | 2/29 [00:00<00:01, 17.04it/s]"
     ]
    },
    {
     "name": "stdout",
     "output_type": "stream",
     "text": [
      "{'ner': 13.831180524742045}\n"
     ]
    },
    {
     "name": "stderr",
     "output_type": "stream",
     "text": [
      "100%|██████████████████████████████████████████████████████████████████████████████████| 29/29 [00:01<00:00, 16.87it/s]\n",
      "  7%|█████▋                                                                             | 2/29 [00:00<00:01, 16.99it/s]"
     ]
    },
    {
     "name": "stdout",
     "output_type": "stream",
     "text": [
      "{'ner': 13.242444371572}\n"
     ]
    },
    {
     "name": "stderr",
     "output_type": "stream",
     "text": [
      "100%|██████████████████████████████████████████████████████████████████████████████████| 29/29 [00:01<00:00, 16.71it/s]\n",
      "  7%|█████▋                                                                             | 2/29 [00:00<00:01, 16.66it/s]"
     ]
    },
    {
     "name": "stdout",
     "output_type": "stream",
     "text": [
      "{'ner': 16.010971837730782}\n"
     ]
    },
    {
     "name": "stderr",
     "output_type": "stream",
     "text": [
      "100%|██████████████████████████████████████████████████████████████████████████████████| 29/29 [00:01<00:00, 16.56it/s]\n",
      "  7%|█████▋                                                                             | 2/29 [00:00<00:01, 14.66it/s]"
     ]
    },
    {
     "name": "stdout",
     "output_type": "stream",
     "text": [
      "{'ner': 15.785714437301447}\n"
     ]
    },
    {
     "name": "stderr",
     "output_type": "stream",
     "text": [
      "100%|██████████████████████████████████████████████████████████████████████████████████| 29/29 [00:01<00:00, 16.85it/s]\n",
      "  7%|█████▋                                                                             | 2/29 [00:00<00:01, 17.04it/s]"
     ]
    },
    {
     "name": "stdout",
     "output_type": "stream",
     "text": [
      "{'ner': 11.457236568855118}\n"
     ]
    },
    {
     "name": "stderr",
     "output_type": "stream",
     "text": [
      "100%|██████████████████████████████████████████████████████████████████████████████████| 29/29 [00:01<00:00, 16.99it/s]\n",
      "  7%|█████▋                                                                             | 2/29 [00:00<00:01, 18.42it/s]"
     ]
    },
    {
     "name": "stdout",
     "output_type": "stream",
     "text": [
      "{'ner': 11.182083668514473}\n"
     ]
    },
    {
     "name": "stderr",
     "output_type": "stream",
     "text": [
      "100%|██████████████████████████████████████████████████████████████████████████████████| 29/29 [00:01<00:00, 16.93it/s]\n",
      "  7%|█████▋                                                                             | 2/29 [00:00<00:01, 18.93it/s]"
     ]
    },
    {
     "name": "stdout",
     "output_type": "stream",
     "text": [
      "{'ner': 10.649439283515795}\n"
     ]
    },
    {
     "name": "stderr",
     "output_type": "stream",
     "text": [
      "100%|██████████████████████████████████████████████████████████████████████████████████| 29/29 [00:01<00:00, 16.91it/s]\n",
      "  7%|█████▋                                                                             | 2/29 [00:00<00:01, 18.59it/s]"
     ]
    },
    {
     "name": "stdout",
     "output_type": "stream",
     "text": [
      "{'ner': 6.535828690390752}\n"
     ]
    },
    {
     "name": "stderr",
     "output_type": "stream",
     "text": [
      "100%|██████████████████████████████████████████████████████████████████████████████████| 29/29 [00:01<00:00, 17.14it/s]\n",
      "  7%|█████▋                                                                             | 2/29 [00:00<00:01, 16.56it/s]"
     ]
    },
    {
     "name": "stdout",
     "output_type": "stream",
     "text": [
      "{'ner': 13.138958150815581}\n"
     ]
    },
    {
     "name": "stderr",
     "output_type": "stream",
     "text": [
      "100%|██████████████████████████████████████████████████████████████████████████████████| 29/29 [00:01<00:00, 16.99it/s]\n",
      "  7%|█████▋                                                                             | 2/29 [00:00<00:01, 16.30it/s]"
     ]
    },
    {
     "name": "stdout",
     "output_type": "stream",
     "text": [
      "{'ner': 8.56349855360114}\n"
     ]
    },
    {
     "name": "stderr",
     "output_type": "stream",
     "text": [
      "100%|██████████████████████████████████████████████████████████████████████████████████| 29/29 [00:01<00:00, 16.94it/s]\n",
      "  7%|█████▋                                                                             | 2/29 [00:00<00:01, 17.31it/s]"
     ]
    },
    {
     "name": "stdout",
     "output_type": "stream",
     "text": [
      "{'ner': 7.173963105205843}\n"
     ]
    },
    {
     "name": "stderr",
     "output_type": "stream",
     "text": [
      "100%|██████████████████████████████████████████████████████████████████████████████████| 29/29 [00:01<00:00, 16.96it/s]\n",
      "  7%|█████▋                                                                             | 2/29 [00:00<00:01, 17.82it/s]"
     ]
    },
    {
     "name": "stdout",
     "output_type": "stream",
     "text": [
      "{'ner': 5.755186879235018}\n"
     ]
    },
    {
     "name": "stderr",
     "output_type": "stream",
     "text": [
      "100%|██████████████████████████████████████████████████████████████████████████████████| 29/29 [00:01<00:00, 16.77it/s]\n",
      "  7%|█████▋                                                                             | 2/29 [00:00<00:01, 16.44it/s]"
     ]
    },
    {
     "name": "stdout",
     "output_type": "stream",
     "text": [
      "{'ner': 6.032789003595267}\n"
     ]
    },
    {
     "name": "stderr",
     "output_type": "stream",
     "text": [
      "100%|██████████████████████████████████████████████████████████████████████████████████| 29/29 [00:01<00:00, 16.86it/s]\n",
      " 10%|████████▌                                                                          | 3/29 [00:00<00:01, 19.06it/s]"
     ]
    },
    {
     "name": "stdout",
     "output_type": "stream",
     "text": [
      "{'ner': 9.634587572238319}\n"
     ]
    },
    {
     "name": "stderr",
     "output_type": "stream",
     "text": [
      "100%|██████████████████████████████████████████████████████████████████████████████████| 29/29 [00:01<00:00, 17.10it/s]\n",
      "  7%|█████▋                                                                             | 2/29 [00:00<00:01, 19.40it/s]"
     ]
    },
    {
     "name": "stdout",
     "output_type": "stream",
     "text": [
      "{'ner': 12.265173572087699}\n"
     ]
    },
    {
     "name": "stderr",
     "output_type": "stream",
     "text": [
      "100%|██████████████████████████████████████████████████████████████████████████████████| 29/29 [00:01<00:00, 16.89it/s]\n",
      "  7%|█████▋                                                                             | 2/29 [00:00<00:01, 18.21it/s]"
     ]
    },
    {
     "name": "stdout",
     "output_type": "stream",
     "text": [
      "{'ner': 6.336331282568046}\n"
     ]
    },
    {
     "name": "stderr",
     "output_type": "stream",
     "text": [
      "100%|██████████████████████████████████████████████████████████████████████████████████| 29/29 [00:01<00:00, 17.20it/s]\n",
      "  7%|█████▋                                                                             | 2/29 [00:00<00:01, 16.30it/s]"
     ]
    },
    {
     "name": "stdout",
     "output_type": "stream",
     "text": [
      "{'ner': 5.78281077078159}\n"
     ]
    },
    {
     "name": "stderr",
     "output_type": "stream",
     "text": [
      "100%|██████████████████████████████████████████████████████████████████████████████████| 29/29 [00:01<00:00, 16.82it/s]\n",
      "  7%|█████▋                                                                             | 2/29 [00:00<00:01, 16.38it/s]"
     ]
    },
    {
     "name": "stdout",
     "output_type": "stream",
     "text": [
      "{'ner': 4.692593220017973}\n"
     ]
    },
    {
     "name": "stderr",
     "output_type": "stream",
     "text": [
      "100%|██████████████████████████████████████████████████████████████████████████████████| 29/29 [00:01<00:00, 17.05it/s]\n",
      "  7%|█████▋                                                                             | 2/29 [00:00<00:01, 16.06it/s]"
     ]
    },
    {
     "name": "stdout",
     "output_type": "stream",
     "text": [
      "{'ner': 7.501488544778666}\n"
     ]
    },
    {
     "name": "stderr",
     "output_type": "stream",
     "text": [
      "100%|██████████████████████████████████████████████████████████████████████████████████| 29/29 [00:01<00:00, 16.74it/s]\n",
      "  7%|█████▋                                                                             | 2/29 [00:00<00:01, 17.91it/s]"
     ]
    },
    {
     "name": "stdout",
     "output_type": "stream",
     "text": [
      "{'ner': 9.076642581222531}\n"
     ]
    },
    {
     "name": "stderr",
     "output_type": "stream",
     "text": [
      "100%|██████████████████████████████████████████████████████████████████████████████████| 29/29 [00:01<00:00, 16.61it/s]\n",
      "  7%|█████▋                                                                             | 2/29 [00:00<00:01, 17.19it/s]"
     ]
    },
    {
     "name": "stdout",
     "output_type": "stream",
     "text": [
      "{'ner': 4.127378211563503}\n"
     ]
    },
    {
     "name": "stderr",
     "output_type": "stream",
     "text": [
      "100%|██████████████████████████████████████████████████████████████████████████████████| 29/29 [00:01<00:00, 16.28it/s]\n",
      "  7%|█████▋                                                                             | 2/29 [00:00<00:01, 16.57it/s]"
     ]
    },
    {
     "name": "stdout",
     "output_type": "stream",
     "text": [
      "{'ner': 4.275969239435194}\n"
     ]
    },
    {
     "name": "stderr",
     "output_type": "stream",
     "text": [
      "100%|██████████████████████████████████████████████████████████████████████████████████| 29/29 [00:01<00:00, 16.40it/s]\n",
      "  7%|█████▋                                                                             | 2/29 [00:00<00:01, 15.55it/s]"
     ]
    },
    {
     "name": "stdout",
     "output_type": "stream",
     "text": [
      "{'ner': 4.891231925912677}\n"
     ]
    },
    {
     "name": "stderr",
     "output_type": "stream",
     "text": [
      "100%|██████████████████████████████████████████████████████████████████████████████████| 29/29 [00:01<00:00, 16.33it/s]\n",
      "  7%|█████▋                                                                             | 2/29 [00:00<00:01, 17.90it/s]"
     ]
    },
    {
     "name": "stdout",
     "output_type": "stream",
     "text": [
      "{'ner': 6.235149663986829}\n"
     ]
    },
    {
     "name": "stderr",
     "output_type": "stream",
     "text": [
      "100%|██████████████████████████████████████████████████████████████████████████████████| 29/29 [00:01<00:00, 16.12it/s]\n",
      "  7%|█████▋                                                                             | 2/29 [00:00<00:01, 15.08it/s]"
     ]
    },
    {
     "name": "stdout",
     "output_type": "stream",
     "text": [
      "{'ner': 2.0538156439627655}\n"
     ]
    },
    {
     "name": "stderr",
     "output_type": "stream",
     "text": [
      "100%|██████████████████████████████████████████████████████████████████████████████████| 29/29 [00:01<00:00, 16.23it/s]\n",
      "  7%|█████▋                                                                             | 2/29 [00:00<00:01, 13.75it/s]"
     ]
    },
    {
     "name": "stdout",
     "output_type": "stream",
     "text": [
      "{'ner': 3.727073729288051}\n"
     ]
    },
    {
     "name": "stderr",
     "output_type": "stream",
     "text": [
      "100%|██████████████████████████████████████████████████████████████████████████████████| 29/29 [00:01<00:00, 15.32it/s]\n",
      "  7%|█████▋                                                                             | 2/29 [00:00<00:01, 14.37it/s]"
     ]
    },
    {
     "name": "stdout",
     "output_type": "stream",
     "text": [
      "{'ner': 1.959317955750262}\n"
     ]
    },
    {
     "name": "stderr",
     "output_type": "stream",
     "text": [
      "100%|██████████████████████████████████████████████████████████████████████████████████| 29/29 [00:01<00:00, 15.23it/s]\n",
      "  7%|█████▋                                                                             | 2/29 [00:00<00:01, 14.77it/s]"
     ]
    },
    {
     "name": "stdout",
     "output_type": "stream",
     "text": [
      "{'ner': 2.3491672086099613}\n"
     ]
    },
    {
     "name": "stderr",
     "output_type": "stream",
     "text": [
      "100%|██████████████████████████████████████████████████████████████████████████████████| 29/29 [00:01<00:00, 15.11it/s]\n",
      "  7%|█████▋                                                                             | 2/29 [00:00<00:01, 14.71it/s]"
     ]
    },
    {
     "name": "stdout",
     "output_type": "stream",
     "text": [
      "{'ner': 2.382958483372404}\n"
     ]
    },
    {
     "name": "stderr",
     "output_type": "stream",
     "text": [
      "100%|██████████████████████████████████████████████████████████████████████████████████| 29/29 [00:01<00:00, 14.89it/s]\n",
      "  7%|█████▋                                                                             | 2/29 [00:00<00:01, 15.78it/s]"
     ]
    },
    {
     "name": "stdout",
     "output_type": "stream",
     "text": [
      "{'ner': 1.7674905053046734}\n"
     ]
    },
    {
     "name": "stderr",
     "output_type": "stream",
     "text": [
      "100%|██████████████████████████████████████████████████████████████████████████████████| 29/29 [00:01<00:00, 15.55it/s]\n",
      "  7%|█████▋                                                                             | 2/29 [00:00<00:01, 14.57it/s]"
     ]
    },
    {
     "name": "stdout",
     "output_type": "stream",
     "text": [
      "{'ner': 4.709407285387132}\n"
     ]
    },
    {
     "name": "stderr",
     "output_type": "stream",
     "text": [
      "100%|██████████████████████████████████████████████████████████████████████████████████| 29/29 [00:01<00:00, 16.12it/s]\n",
      "  7%|█████▋                                                                             | 2/29 [00:00<00:01, 16.08it/s]"
     ]
    },
    {
     "name": "stdout",
     "output_type": "stream",
     "text": [
      "{'ner': 14.150887799524385}\n"
     ]
    },
    {
     "name": "stderr",
     "output_type": "stream",
     "text": [
      "100%|██████████████████████████████████████████████████████████████████████████████████| 29/29 [00:01<00:00, 15.99it/s]\n",
      "  7%|█████▋                                                                             | 2/29 [00:00<00:02, 13.43it/s]"
     ]
    },
    {
     "name": "stdout",
     "output_type": "stream",
     "text": [
      "{'ner': 1.5312545390795909}\n"
     ]
    },
    {
     "name": "stderr",
     "output_type": "stream",
     "text": [
      "100%|██████████████████████████████████████████████████████████████████████████████████| 29/29 [00:01<00:00, 15.84it/s]\n",
      "  7%|█████▋                                                                             | 2/29 [00:00<00:01, 15.39it/s]"
     ]
    },
    {
     "name": "stdout",
     "output_type": "stream",
     "text": [
      "{'ner': 2.4804293552873964}\n"
     ]
    },
    {
     "name": "stderr",
     "output_type": "stream",
     "text": [
      "100%|██████████████████████████████████████████████████████████████████████████████████| 29/29 [00:01<00:00, 15.61it/s]\n",
      "  7%|█████▋                                                                             | 2/29 [00:00<00:01, 16.32it/s]"
     ]
    },
    {
     "name": "stdout",
     "output_type": "stream",
     "text": [
      "{'ner': 2.2163115918387533}\n"
     ]
    },
    {
     "name": "stderr",
     "output_type": "stream",
     "text": [
      "100%|██████████████████████████████████████████████████████████████████████████████████| 29/29 [00:01<00:00, 15.55it/s]\n",
      "  7%|█████▋                                                                             | 2/29 [00:00<00:01, 16.97it/s]"
     ]
    },
    {
     "name": "stdout",
     "output_type": "stream",
     "text": [
      "{'ner': 3.936028847978018}\n"
     ]
    },
    {
     "name": "stderr",
     "output_type": "stream",
     "text": [
      "100%|██████████████████████████████████████████████████████████████████████████████████| 29/29 [00:01<00:00, 16.00it/s]\n",
      "  7%|█████▋                                                                             | 2/29 [00:00<00:01, 16.98it/s]"
     ]
    },
    {
     "name": "stdout",
     "output_type": "stream",
     "text": [
      "{'ner': 4.775544528330202}\n"
     ]
    },
    {
     "name": "stderr",
     "output_type": "stream",
     "text": [
      "100%|██████████████████████████████████████████████████████████████████████████████████| 29/29 [00:01<00:00, 15.69it/s]\n",
      "  7%|█████▋                                                                             | 2/29 [00:00<00:01, 17.55it/s]"
     ]
    },
    {
     "name": "stdout",
     "output_type": "stream",
     "text": [
      "{'ner': 0.0938207405388005}\n"
     ]
    },
    {
     "name": "stderr",
     "output_type": "stream",
     "text": [
      "100%|██████████████████████████████████████████████████████████████████████████████████| 29/29 [00:01<00:00, 15.99it/s]\n",
      "  7%|█████▋                                                                             | 2/29 [00:00<00:01, 16.93it/s]"
     ]
    },
    {
     "name": "stdout",
     "output_type": "stream",
     "text": [
      "{'ner': 2.78442343959059}\n"
     ]
    },
    {
     "name": "stderr",
     "output_type": "stream",
     "text": [
      "100%|██████████████████████████████████████████████████████████████████████████████████| 29/29 [00:01<00:00, 16.07it/s]\n",
      "  7%|█████▋                                                                             | 2/29 [00:00<00:01, 16.65it/s]"
     ]
    },
    {
     "name": "stdout",
     "output_type": "stream",
     "text": [
      "{'ner': 0.007681582576276632}\n"
     ]
    },
    {
     "name": "stderr",
     "output_type": "stream",
     "text": [
      "100%|██████████████████████████████████████████████████████████████████████████████████| 29/29 [00:01<00:00, 15.97it/s]\n",
      "  7%|█████▋                                                                             | 2/29 [00:00<00:01, 15.42it/s]"
     ]
    },
    {
     "name": "stdout",
     "output_type": "stream",
     "text": [
      "{'ner': 3.6136060896635325}\n"
     ]
    },
    {
     "name": "stderr",
     "output_type": "stream",
     "text": [
      "100%|██████████████████████████████████████████████████████████████████████████████████| 29/29 [00:01<00:00, 15.69it/s]\n",
      "  7%|█████▋                                                                             | 2/29 [00:00<00:01, 15.15it/s]"
     ]
    },
    {
     "name": "stdout",
     "output_type": "stream",
     "text": [
      "{'ner': 0.035401011600700305}\n"
     ]
    },
    {
     "name": "stderr",
     "output_type": "stream",
     "text": [
      "100%|██████████████████████████████████████████████████████████████████████████████████| 29/29 [00:01<00:00, 15.84it/s]\n",
      "  7%|█████▋                                                                             | 2/29 [00:00<00:01, 17.40it/s]"
     ]
    },
    {
     "name": "stdout",
     "output_type": "stream",
     "text": [
      "{'ner': 3.4035005271369028}\n"
     ]
    },
    {
     "name": "stderr",
     "output_type": "stream",
     "text": [
      "100%|██████████████████████████████████████████████████████████████████████████████████| 29/29 [00:01<00:00, 15.92it/s]\n",
      "  7%|█████▋                                                                             | 2/29 [00:00<00:01, 15.83it/s]"
     ]
    },
    {
     "name": "stdout",
     "output_type": "stream",
     "text": [
      "{'ner': 5.214625691036496}\n"
     ]
    },
    {
     "name": "stderr",
     "output_type": "stream",
     "text": [
      "100%|██████████████████████████████████████████████████████████████████████████████████| 29/29 [00:01<00:00, 15.63it/s]\n",
      "  7%|█████▋                                                                             | 2/29 [00:00<00:01, 15.13it/s]"
     ]
    },
    {
     "name": "stdout",
     "output_type": "stream",
     "text": [
      "{'ner': 4.309357690136119}\n"
     ]
    },
    {
     "name": "stderr",
     "output_type": "stream",
     "text": [
      "100%|██████████████████████████████████████████████████████████████████████████████████| 29/29 [00:01<00:00, 15.85it/s]\n",
      "  7%|█████▋                                                                             | 2/29 [00:00<00:01, 19.00it/s]"
     ]
    },
    {
     "name": "stdout",
     "output_type": "stream",
     "text": [
      "{'ner': 1.9999866196567562}\n"
     ]
    },
    {
     "name": "stderr",
     "output_type": "stream",
     "text": [
      "100%|██████████████████████████████████████████████████████████████████████████████████| 29/29 [00:01<00:00, 16.00it/s]\n",
      "  7%|█████▋                                                                             | 2/29 [00:00<00:01, 16.98it/s]"
     ]
    },
    {
     "name": "stdout",
     "output_type": "stream",
     "text": [
      "{'ner': 0.00013064624911736792}\n"
     ]
    },
    {
     "name": "stderr",
     "output_type": "stream",
     "text": [
      "100%|██████████████████████████████████████████████████████████████████████████████████| 29/29 [00:01<00:00, 15.99it/s]\n",
      "  7%|█████▋                                                                             | 2/29 [00:00<00:01, 16.76it/s]"
     ]
    },
    {
     "name": "stdout",
     "output_type": "stream",
     "text": [
      "{'ner': 1.9600908391793246}\n"
     ]
    },
    {
     "name": "stderr",
     "output_type": "stream",
     "text": [
      "100%|██████████████████████████████████████████████████████████████████████████████████| 29/29 [00:01<00:00, 16.19it/s]\n",
      "  7%|█████▋                                                                             | 2/29 [00:00<00:01, 15.27it/s]"
     ]
    },
    {
     "name": "stdout",
     "output_type": "stream",
     "text": [
      "{'ner': 0.003021698753188331}\n"
     ]
    },
    {
     "name": "stderr",
     "output_type": "stream",
     "text": [
      "100%|██████████████████████████████████████████████████████████████████████████████████| 29/29 [00:01<00:00, 16.04it/s]\n",
      "  7%|█████▋                                                                             | 2/29 [00:00<00:01, 15.34it/s]"
     ]
    },
    {
     "name": "stdout",
     "output_type": "stream",
     "text": [
      "{'ner': 0.018842892693676686}\n"
     ]
    },
    {
     "name": "stderr",
     "output_type": "stream",
     "text": [
      "100%|██████████████████████████████████████████████████████████████████████████████████| 29/29 [00:01<00:00, 16.07it/s]\n",
      "  7%|█████▋                                                                             | 2/29 [00:00<00:01, 16.73it/s]"
     ]
    },
    {
     "name": "stdout",
     "output_type": "stream",
     "text": [
      "{'ner': 3.7646845571047036}\n"
     ]
    },
    {
     "name": "stderr",
     "output_type": "stream",
     "text": [
      "100%|██████████████████████████████████████████████████████████████████████████████████| 29/29 [00:01<00:00, 16.18it/s]\n",
      "  7%|█████▋                                                                             | 2/29 [00:00<00:01, 16.61it/s]"
     ]
    },
    {
     "name": "stdout",
     "output_type": "stream",
     "text": [
      "{'ner': 0.7343374014799319}\n"
     ]
    },
    {
     "name": "stderr",
     "output_type": "stream",
     "text": [
      "100%|██████████████████████████████████████████████████████████████████████████████████| 29/29 [00:01<00:00, 15.74it/s]\n",
      "  7%|█████▋                                                                             | 2/29 [00:00<00:01, 16.55it/s]"
     ]
    },
    {
     "name": "stdout",
     "output_type": "stream",
     "text": [
      "{'ner': 0.7718061438693403}\n"
     ]
    },
    {
     "name": "stderr",
     "output_type": "stream",
     "text": [
      "100%|██████████████████████████████████████████████████████████████████████████████████| 29/29 [00:02<00:00, 13.97it/s]\n",
      "  7%|█████▋                                                                             | 2/29 [00:00<00:01, 15.91it/s]"
     ]
    },
    {
     "name": "stdout",
     "output_type": "stream",
     "text": [
      "{'ner': 1.577859851844412}\n"
     ]
    },
    {
     "name": "stderr",
     "output_type": "stream",
     "text": [
      "100%|██████████████████████████████████████████████████████████████████████████████████| 29/29 [00:01<00:00, 15.92it/s]\n",
      "  7%|█████▋                                                                             | 2/29 [00:00<00:01, 16.94it/s]"
     ]
    },
    {
     "name": "stdout",
     "output_type": "stream",
     "text": [
      "{'ner': 0.00011550521041787586}\n"
     ]
    },
    {
     "name": "stderr",
     "output_type": "stream",
     "text": [
      "100%|██████████████████████████████████████████████████████████████████████████████████| 29/29 [00:01<00:00, 16.12it/s]\n",
      "  7%|█████▋                                                                             | 2/29 [00:00<00:01, 15.44it/s]"
     ]
    },
    {
     "name": "stdout",
     "output_type": "stream",
     "text": [
      "{'ner': 7.993797125857537}\n"
     ]
    },
    {
     "name": "stderr",
     "output_type": "stream",
     "text": [
      "100%|██████████████████████████████████████████████████████████████████████████████████| 29/29 [00:01<00:00, 16.04it/s]\n",
      "  7%|█████▋                                                                             | 2/29 [00:00<00:01, 16.03it/s]"
     ]
    },
    {
     "name": "stdout",
     "output_type": "stream",
     "text": [
      "{'ner': 1.1183184896597906}\n"
     ]
    },
    {
     "name": "stderr",
     "output_type": "stream",
     "text": [
      "100%|██████████████████████████████████████████████████████████████████████████████████| 29/29 [00:01<00:00, 15.79it/s]\n",
      "  7%|█████▋                                                                             | 2/29 [00:00<00:01, 16.45it/s]"
     ]
    },
    {
     "name": "stdout",
     "output_type": "stream",
     "text": [
      "{'ner': 0.002094540399304084}\n"
     ]
    },
    {
     "name": "stderr",
     "output_type": "stream",
     "text": [
      "100%|██████████████████████████████████████████████████████████████████████████████████| 29/29 [00:01<00:00, 15.31it/s]\n",
      "  7%|█████▋                                                                             | 2/29 [00:00<00:01, 15.21it/s]"
     ]
    },
    {
     "name": "stdout",
     "output_type": "stream",
     "text": [
      "{'ner': 2.700549369930738}\n"
     ]
    },
    {
     "name": "stderr",
     "output_type": "stream",
     "text": [
      "100%|██████████████████████████████████████████████████████████████████████████████████| 29/29 [00:01<00:00, 15.48it/s]\n",
      "  7%|█████▋                                                                             | 2/29 [00:00<00:01, 15.19it/s]"
     ]
    },
    {
     "name": "stdout",
     "output_type": "stream",
     "text": [
      "{'ner': 0.00038285394992545156}\n"
     ]
    },
    {
     "name": "stderr",
     "output_type": "stream",
     "text": [
      "100%|██████████████████████████████████████████████████████████████████████████████████| 29/29 [00:01<00:00, 15.64it/s]\n",
      "  7%|█████▋                                                                             | 2/29 [00:00<00:01, 17.27it/s]"
     ]
    },
    {
     "name": "stdout",
     "output_type": "stream",
     "text": [
      "{'ner': 0.2739920704091472}\n"
     ]
    },
    {
     "name": "stderr",
     "output_type": "stream",
     "text": [
      "100%|██████████████████████████████████████████████████████████████████████████████████| 29/29 [00:01<00:00, 15.86it/s]\n",
      "  7%|█████▋                                                                             | 2/29 [00:00<00:01, 16.46it/s]"
     ]
    },
    {
     "name": "stdout",
     "output_type": "stream",
     "text": [
      "{'ner': 0.06664621324315768}\n"
     ]
    },
    {
     "name": "stderr",
     "output_type": "stream",
     "text": [
      "100%|██████████████████████████████████████████████████████████████████████████████████| 29/29 [00:01<00:00, 16.27it/s]\n",
      "  7%|█████▋                                                                             | 2/29 [00:00<00:01, 15.69it/s]"
     ]
    },
    {
     "name": "stdout",
     "output_type": "stream",
     "text": [
      "{'ner': 2.154984317531425}\n"
     ]
    },
    {
     "name": "stderr",
     "output_type": "stream",
     "text": [
      "100%|██████████████████████████████████████████████████████████████████████████████████| 29/29 [00:01<00:00, 16.11it/s]\n",
      "  7%|█████▋                                                                             | 2/29 [00:00<00:01, 15.16it/s]"
     ]
    },
    {
     "name": "stdout",
     "output_type": "stream",
     "text": [
      "{'ner': 0.6238036977958228}\n"
     ]
    },
    {
     "name": "stderr",
     "output_type": "stream",
     "text": [
      "100%|██████████████████████████████████████████████████████████████████████████████████| 29/29 [00:01<00:00, 16.17it/s]\n",
      "  7%|█████▋                                                                             | 2/29 [00:00<00:01, 16.16it/s]"
     ]
    },
    {
     "name": "stdout",
     "output_type": "stream",
     "text": [
      "{'ner': 3.1650603581085863}\n"
     ]
    },
    {
     "name": "stderr",
     "output_type": "stream",
     "text": [
      "100%|██████████████████████████████████████████████████████████████████████████████████| 29/29 [00:01<00:00, 16.08it/s]\n",
      "  7%|█████▋                                                                             | 2/29 [00:00<00:01, 16.38it/s]"
     ]
    },
    {
     "name": "stdout",
     "output_type": "stream",
     "text": [
      "{'ner': 1.801323999906907}\n"
     ]
    },
    {
     "name": "stderr",
     "output_type": "stream",
     "text": [
      "100%|██████████████████████████████████████████████████████████████████████████████████| 29/29 [00:01<00:00, 15.43it/s]\n",
      "  7%|█████▋                                                                             | 2/29 [00:00<00:01, 15.64it/s]"
     ]
    },
    {
     "name": "stdout",
     "output_type": "stream",
     "text": [
      "{'ner': 3.9826435219484972}\n"
     ]
    },
    {
     "name": "stderr",
     "output_type": "stream",
     "text": [
      "100%|██████████████████████████████████████████████████████████████████████████████████| 29/29 [00:01<00:00, 16.14it/s]\n",
      "  7%|█████▋                                                                             | 2/29 [00:00<00:01, 15.47it/s]"
     ]
    },
    {
     "name": "stdout",
     "output_type": "stream",
     "text": [
      "{'ner': 0.11742876870064421}\n"
     ]
    },
    {
     "name": "stderr",
     "output_type": "stream",
     "text": [
      "100%|██████████████████████████████████████████████████████████████████████████████████| 29/29 [00:01<00:00, 15.93it/s]\n",
      "  7%|█████▋                                                                             | 2/29 [00:00<00:01, 14.36it/s]"
     ]
    },
    {
     "name": "stdout",
     "output_type": "stream",
     "text": [
      "{'ner': 1.5277036386800036}\n"
     ]
    },
    {
     "name": "stderr",
     "output_type": "stream",
     "text": [
      "100%|██████████████████████████████████████████████████████████████████████████████████| 29/29 [00:01<00:00, 15.63it/s]\n",
      "  7%|█████▋                                                                             | 2/29 [00:00<00:01, 14.17it/s]"
     ]
    },
    {
     "name": "stdout",
     "output_type": "stream",
     "text": [
      "{'ner': 0.0001958399686257405}\n"
     ]
    },
    {
     "name": "stderr",
     "output_type": "stream",
     "text": [
      "100%|██████████████████████████████████████████████████████████████████████████████████| 29/29 [00:01<00:00, 15.20it/s]\n",
      "  7%|█████▋                                                                             | 2/29 [00:00<00:01, 14.87it/s]"
     ]
    },
    {
     "name": "stdout",
     "output_type": "stream",
     "text": [
      "{'ner': 2.0459258574222394}\n"
     ]
    },
    {
     "name": "stderr",
     "output_type": "stream",
     "text": [
      "100%|██████████████████████████████████████████████████████████████████████████████████| 29/29 [00:01<00:00, 15.65it/s]\n",
      "  7%|█████▋                                                                             | 2/29 [00:00<00:02, 13.21it/s]"
     ]
    },
    {
     "name": "stdout",
     "output_type": "stream",
     "text": [
      "{'ner': 1.3211629366097528}\n"
     ]
    },
    {
     "name": "stderr",
     "output_type": "stream",
     "text": [
      "100%|██████████████████████████████████████████████████████████████████████████████████| 29/29 [00:01<00:00, 15.95it/s]\n",
      "  7%|█████▋                                                                             | 2/29 [00:00<00:01, 15.06it/s]"
     ]
    },
    {
     "name": "stdout",
     "output_type": "stream",
     "text": [
      "{'ner': 0.8121036514213918}\n"
     ]
    },
    {
     "name": "stderr",
     "output_type": "stream",
     "text": [
      "100%|██████████████████████████████████████████████████████████████████████████████████| 29/29 [00:01<00:00, 15.89it/s]\n",
      "  7%|█████▋                                                                             | 2/29 [00:00<00:01, 17.15it/s]"
     ]
    },
    {
     "name": "stdout",
     "output_type": "stream",
     "text": [
      "{'ner': 0.0017238501081273205}\n"
     ]
    },
    {
     "name": "stderr",
     "output_type": "stream",
     "text": [
      "100%|██████████████████████████████████████████████████████████████████████████████████| 29/29 [00:01<00:00, 15.84it/s]\n",
      "  7%|█████▋                                                                             | 2/29 [00:00<00:01, 13.68it/s]"
     ]
    },
    {
     "name": "stdout",
     "output_type": "stream",
     "text": [
      "{'ner': 0.0001033540675406126}\n"
     ]
    },
    {
     "name": "stderr",
     "output_type": "stream",
     "text": [
      "100%|██████████████████████████████████████████████████████████████████████████████████| 29/29 [00:01<00:00, 15.61it/s]\n",
      "  7%|█████▋                                                                             | 2/29 [00:00<00:02, 13.14it/s]"
     ]
    },
    {
     "name": "stdout",
     "output_type": "stream",
     "text": [
      "{'ner': 3.0694562454606884e-07}\n"
     ]
    },
    {
     "name": "stderr",
     "output_type": "stream",
     "text": [
      "100%|██████████████████████████████████████████████████████████████████████████████████| 29/29 [00:01<00:00, 15.95it/s]\n",
      "  7%|█████▋                                                                             | 2/29 [00:00<00:01, 16.38it/s]"
     ]
    },
    {
     "name": "stdout",
     "output_type": "stream",
     "text": [
      "{'ner': 0.0012329972702029095}\n"
     ]
    },
    {
     "name": "stderr",
     "output_type": "stream",
     "text": [
      "100%|██████████████████████████████████████████████████████████████████████████████████| 29/29 [00:01<00:00, 15.84it/s]\n",
      "  7%|█████▋                                                                             | 2/29 [00:00<00:02, 12.65it/s]"
     ]
    },
    {
     "name": "stdout",
     "output_type": "stream",
     "text": [
      "{'ner': 0.00042446235007472736}\n"
     ]
    },
    {
     "name": "stderr",
     "output_type": "stream",
     "text": [
      "100%|██████████████████████████████████████████████████████████████████████████████████| 29/29 [00:01<00:00, 16.10it/s]\n",
      "  7%|█████▋                                                                             | 2/29 [00:00<00:01, 16.31it/s]"
     ]
    },
    {
     "name": "stdout",
     "output_type": "stream",
     "text": [
      "{'ner': 0.057445425975275896}\n"
     ]
    },
    {
     "name": "stderr",
     "output_type": "stream",
     "text": [
      "100%|██████████████████████████████████████████████████████████████████████████████████| 29/29 [00:01<00:00, 15.74it/s]\n",
      "  7%|█████▋                                                                             | 2/29 [00:00<00:01, 15.51it/s]"
     ]
    },
    {
     "name": "stdout",
     "output_type": "stream",
     "text": [
      "{'ner': 4.6237596538247325e-05}\n"
     ]
    },
    {
     "name": "stderr",
     "output_type": "stream",
     "text": [
      "100%|██████████████████████████████████████████████████████████████████████████████████| 29/29 [00:01<00:00, 15.91it/s]\n",
      "  7%|█████▋                                                                             | 2/29 [00:00<00:01, 15.62it/s]"
     ]
    },
    {
     "name": "stdout",
     "output_type": "stream",
     "text": [
      "{'ner': 7.125798782639128e-05}\n"
     ]
    },
    {
     "name": "stderr",
     "output_type": "stream",
     "text": [
      "100%|██████████████████████████████████████████████████████████████████████████████████| 29/29 [00:01<00:00, 16.07it/s]\n",
      "  7%|█████▋                                                                             | 2/29 [00:00<00:02, 13.42it/s]"
     ]
    },
    {
     "name": "stdout",
     "output_type": "stream",
     "text": [
      "{'ner': 0.6626249220158169}\n"
     ]
    },
    {
     "name": "stderr",
     "output_type": "stream",
     "text": [
      "100%|██████████████████████████████████████████████████████████████████████████████████| 29/29 [00:01<00:00, 14.86it/s]\n",
      "  7%|█████▋                                                                             | 2/29 [00:00<00:01, 16.09it/s]"
     ]
    },
    {
     "name": "stdout",
     "output_type": "stream",
     "text": [
      "{'ner': 0.24180770701873755}\n"
     ]
    },
    {
     "name": "stderr",
     "output_type": "stream",
     "text": [
      "100%|██████████████████████████████████████████████████████████████████████████████████| 29/29 [00:01<00:00, 15.95it/s]\n",
      "  7%|█████▋                                                                             | 2/29 [00:00<00:01, 15.93it/s]"
     ]
    },
    {
     "name": "stdout",
     "output_type": "stream",
     "text": [
      "{'ner': 0.6453835051144924}\n"
     ]
    },
    {
     "name": "stderr",
     "output_type": "stream",
     "text": [
      "100%|██████████████████████████████████████████████████████████████████████████████████| 29/29 [00:01<00:00, 15.23it/s]\n",
      "  7%|█████▋                                                                             | 2/29 [00:00<00:01, 19.03it/s]"
     ]
    },
    {
     "name": "stdout",
     "output_type": "stream",
     "text": [
      "{'ner': 0.0009887721386189498}\n"
     ]
    },
    {
     "name": "stderr",
     "output_type": "stream",
     "text": [
      "100%|██████████████████████████████████████████████████████████████████████████████████| 29/29 [00:01<00:00, 15.56it/s]\n",
      "  7%|█████▋                                                                             | 2/29 [00:00<00:01, 17.38it/s]"
     ]
    },
    {
     "name": "stdout",
     "output_type": "stream",
     "text": [
      "{'ner': 3.6362634918584864}\n"
     ]
    },
    {
     "name": "stderr",
     "output_type": "stream",
     "text": [
      "100%|██████████████████████████████████████████████████████████████████████████████████| 29/29 [00:01<00:00, 15.67it/s]\n",
      "  7%|█████▋                                                                             | 2/29 [00:00<00:01, 17.42it/s]"
     ]
    },
    {
     "name": "stdout",
     "output_type": "stream",
     "text": [
      "{'ner': 1.0347965797536098}\n"
     ]
    },
    {
     "name": "stderr",
     "output_type": "stream",
     "text": [
      "100%|██████████████████████████████████████████████████████████████████████████████████| 29/29 [00:01<00:00, 15.85it/s]\n",
      "  7%|█████▋                                                                             | 2/29 [00:00<00:02, 13.44it/s]"
     ]
    },
    {
     "name": "stdout",
     "output_type": "stream",
     "text": [
      "{'ner': 0.0004060056183278286}\n"
     ]
    },
    {
     "name": "stderr",
     "output_type": "stream",
     "text": [
      "100%|██████████████████████████████████████████████████████████████████████████████████| 29/29 [00:01<00:00, 15.80it/s]"
     ]
    },
    {
     "name": "stdout",
     "output_type": "stream",
     "text": [
      "{'ner': 1.6213983392287987}\n"
     ]
    },
    {
     "name": "stderr",
     "output_type": "stream",
     "text": [
      "\n"
     ]
    }
   ],
   "source": [
    "for _, annotations in mylist1:\n",
    "    for ent in annotations.get('entities'):\n",
    "        ner.add_label(ent[2])\n",
    "example = []\n",
    "other_pipes = [pipe for pipe in nlp.pipe_names if pipe != 'ner']\n",
    "with nlp.disable_pipes(*other_pipes): \n",
    "    optimizer = nlp.create_optimizer()\n",
    "    for itn in range(n_iter):\n",
    "        random.shuffle(mylist1)\n",
    "        losses = {}\n",
    "        for text, annotations in tqdm(mylist1):\n",
    "            doc = nlp.make_doc(text)\n",
    "            example = Example.from_dict(doc, annotations)\n",
    "            nlp.update(\n",
    "                [example], \n",
    "                drop=0.5,  \n",
    "                sgd=optimizer,\n",
    "                losses=losses)\n",
    "        print(losses)"
   ]
  },
  {
   "cell_type": "code",
   "execution_count": 29,
   "id": "55c29c73",
   "metadata": {},
   "outputs": [
    {
     "name": "stdout",
     "output_type": "stream",
     "text": [
      "Saved model to \\content\n",
      "Loading from \\content\n",
      "Entities [('30 days', 'Payment Term')]\n"
     ]
    }
   ],
   "source": [
    "# Save the  model to directory\n",
    "output_dir = Path('/content/')\n",
    "nlp.to_disk(output_dir)\n",
    "print(\"Saved model to\", output_dir)\n",
    "\n",
    "# Load the saved model and testing train\n",
    "print(\"Loading from\", output_dir)\n",
    "nlp_updated = spacy.load(output_dir)\n",
    "doc = nlp_updated(train['text'][0] )\n",
    "print(\"Entities\", [(ent.text, ent.label_) for ent in doc.ents])"
   ]
  },
  {
   "cell_type": "code",
   "execution_count": 30,
   "id": "fce8ebb1",
   "metadata": {
    "scrolled": true
   },
   "outputs": [
    {
     "name": "stdout",
     "output_type": "stream",
     "text": [
      "Entities []\n",
      "Entities []\n",
      "Entities [('thirty(30) days', 'Payment Term'), ('thirty (30) days', 'Payment Term')]\n",
      "Entities []\n",
      "Entities [('30 days', 'Payment Term'), ('10 days', 'Payment Term'), ('5.3.', 'Payment Term')]\n",
      "Entities []\n",
      "Entities []\n",
      "Entities [('ten (10) days', 'Payment Term')]\n",
      "Entities []\n",
      "Entities []\n",
      "Entities []\n",
      "Entities []\n",
      "Entities [('11 days', 'Payment Term')]\n",
      "Entities [('30 days.', 'Payment Term')]\n",
      "Entities [('five (5) previous', 'Payment Term'), ('four (4) previous', 'Payment Term')]\n",
      "Entities [('thirty (30) days', 'Payment Term')]\n",
      "Entities [('thirty (30) days', 'Payment Term')]\n",
      "Entities [('30 days', 'Payment Term'), ('30 days.', 'Payment Term')]\n",
      "Entities [('thirty (30) days', 'Payment Term')]\n",
      "Entities []\n",
      "Entities []\n",
      "Entities []\n",
      "Entities [('30 days', 'Payment Term')]\n",
      "Entities []\n",
      "Entities []\n",
      "Entities [('third-party', 'Payment Term'), ('thirty (30) days', 'Payment Term')]\n",
      "Entities [('thirty (30) days', 'Payment Term')]\n",
      "Entities [('twenty (20) days', 'Payment Term')]\n",
      "Entities [('thirty (30) days', 'Payment Term')]\n",
      "Entities [('thirty (30) days', 'Payment Term')]\n",
      "Entities [('ten (10) days', 'Payment Term')]\n",
      "Entities []\n",
      "Entities [('thirty (30) days', 'Payment Term')]\n",
      "Entities []\n",
      "Entities [('30 days', 'Payment Term')]\n",
      "Entities [('30 days', 'Payment Term')]\n",
      "Entities [('five years', 'Payment Term'), ('30 days', 'Payment Term'), ('30 day', 'Payment Term'), ('23 October', 'Payment Term')]\n",
      "Entities [('4.5,', 'Payment Term')]\n",
      "Entities [('thirty (30) days', 'Payment Term')]\n",
      "Entities [('sixty (60) days', 'Payment Term')]\n",
      "Entities []\n",
      "Entities []\n",
      "Entities []\n",
      "Entities []\n",
      "Entities [('sixty (60) days', 'Payment Term')]\n",
      "Entities [('three (3) days', 'Payment Term')]\n",
      "Entities [('ten (10) business days', 'Payment Term')]\n",
      "Entities [('thirty (30) days', 'Payment Term')]\n",
      "Entities [('twenty (20) day', 'Payment Term')]\n",
      "Entities [('30 days', 'Payment Term')]\n",
      "Entities [('ten (10) days', 'Payment Term'), ('January 10, April', 'Payment Term'), ('10, July', 'Payment Term')]\n",
      "Entities []\n",
      "Entities [('057476-1-NPI', 'Payment Term'), ('Second year', 'Payment Term'), ('2x per month', 'Payment Term')]\n",
      "Entities [('30 days', 'Payment Term'), ('30 DAYS', 'Payment Term')]\n",
      "Entities []\n",
      "Entities [('sixty (60) days', 'Payment Term')]\n",
      "Entities [('sixty (60) days', 'Payment Term'), ('five (5) days', 'Payment Term')]\n",
      "Entities [('CHC-KSMO-CON-I26-', 'Payment Term'), ('three hundred sixty-five (365) days', 'Payment Term')]\n",
      "Entities [('ten ( 10) days', 'Payment Term')]\n",
      "Entities [('ten ( 10) days', 'Payment Term'), ('ten (10) day', 'Payment Term')]\n"
     ]
    }
   ],
   "source": [
    "# Testing data\n",
    "for i in range(len(test)):\n",
    "    doc = nlp_updated(test['text'][i] )\n",
    "    print(\"Entities\", [(ent.text, ent.label_) for ent in doc.ents])"
   ]
  },
  {
   "cell_type": "code",
   "execution_count": null,
   "id": "8520c0f6",
   "metadata": {},
   "outputs": [],
   "source": []
  },
  {
   "cell_type": "code",
   "execution_count": null,
   "id": "826d806e",
   "metadata": {},
   "outputs": [],
   "source": []
  },
  {
   "cell_type": "code",
   "execution_count": null,
   "id": "99b6192b",
   "metadata": {},
   "outputs": [],
   "source": []
  }
 ],
 "metadata": {
  "kernelspec": {
   "display_name": "Python 3",
   "language": "python",
   "name": "python3"
  },
  "language_info": {
   "codemirror_mode": {
    "name": "ipython",
    "version": 3
   },
   "file_extension": ".py",
   "mimetype": "text/x-python",
   "name": "python",
   "nbconvert_exporter": "python",
   "pygments_lexer": "ipython3",
   "version": "3.8.8"
  }
 },
 "nbformat": 4,
 "nbformat_minor": 5
}
